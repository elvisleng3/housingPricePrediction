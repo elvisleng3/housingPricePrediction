{
 "cells": [
  {
   "cell_type": "code",
   "execution_count": 1,
   "metadata": {
    "collapsed": true
   },
   "outputs": [],
   "source": [
    "import pandas as pd\n",
    "import numpy as np\n",
    "import matplotlib.pyplot as plt\n",
    "import random"
   ]
  },
  {
   "cell_type": "code",
   "execution_count": 2,
   "metadata": {
    "collapsed": true
   },
   "outputs": [],
   "source": [
    "db = pd.read_csv(\"train.csv\")\n",
    "db_test = pd.read_csv(\"test.csv\")"
   ]
  },
  {
   "cell_type": "markdown",
   "metadata": {},
   "source": [
    "# 1. Data exploration"
   ]
  },
  {
   "cell_type": "code",
   "execution_count": 3,
   "metadata": {},
   "outputs": [
    {
     "data": {
      "text/html": [
       "<div>\n",
       "<style>\n",
       "    .dataframe thead tr:only-child th {\n",
       "        text-align: right;\n",
       "    }\n",
       "\n",
       "    .dataframe thead th {\n",
       "        text-align: left;\n",
       "    }\n",
       "\n",
       "    .dataframe tbody tr th {\n",
       "        vertical-align: top;\n",
       "    }\n",
       "</style>\n",
       "<table border=\"1\" class=\"dataframe\">\n",
       "  <thead>\n",
       "    <tr style=\"text-align: right;\">\n",
       "      <th></th>\n",
       "      <th>Id</th>\n",
       "      <th>MSSubClass</th>\n",
       "      <th>LotFrontage</th>\n",
       "      <th>LotArea</th>\n",
       "      <th>OverallQual</th>\n",
       "      <th>OverallCond</th>\n",
       "      <th>YearBuilt</th>\n",
       "      <th>YearRemodAdd</th>\n",
       "      <th>MasVnrArea</th>\n",
       "      <th>BsmtFinSF1</th>\n",
       "      <th>...</th>\n",
       "      <th>WoodDeckSF</th>\n",
       "      <th>OpenPorchSF</th>\n",
       "      <th>EnclosedPorch</th>\n",
       "      <th>3SsnPorch</th>\n",
       "      <th>ScreenPorch</th>\n",
       "      <th>PoolArea</th>\n",
       "      <th>MiscVal</th>\n",
       "      <th>MoSold</th>\n",
       "      <th>YrSold</th>\n",
       "      <th>SalePrice</th>\n",
       "    </tr>\n",
       "  </thead>\n",
       "  <tbody>\n",
       "    <tr>\n",
       "      <th>count</th>\n",
       "      <td>1460.000000</td>\n",
       "      <td>1460.000000</td>\n",
       "      <td>1201.000000</td>\n",
       "      <td>1460.000000</td>\n",
       "      <td>1460.000000</td>\n",
       "      <td>1460.000000</td>\n",
       "      <td>1460.000000</td>\n",
       "      <td>1460.000000</td>\n",
       "      <td>1452.000000</td>\n",
       "      <td>1460.000000</td>\n",
       "      <td>...</td>\n",
       "      <td>1460.000000</td>\n",
       "      <td>1460.000000</td>\n",
       "      <td>1460.000000</td>\n",
       "      <td>1460.000000</td>\n",
       "      <td>1460.000000</td>\n",
       "      <td>1460.000000</td>\n",
       "      <td>1460.000000</td>\n",
       "      <td>1460.000000</td>\n",
       "      <td>1460.000000</td>\n",
       "      <td>1460.000000</td>\n",
       "    </tr>\n",
       "    <tr>\n",
       "      <th>mean</th>\n",
       "      <td>730.500000</td>\n",
       "      <td>56.897260</td>\n",
       "      <td>70.049958</td>\n",
       "      <td>10516.828082</td>\n",
       "      <td>6.099315</td>\n",
       "      <td>5.575342</td>\n",
       "      <td>1971.267808</td>\n",
       "      <td>1984.865753</td>\n",
       "      <td>103.685262</td>\n",
       "      <td>443.639726</td>\n",
       "      <td>...</td>\n",
       "      <td>94.244521</td>\n",
       "      <td>46.660274</td>\n",
       "      <td>21.954110</td>\n",
       "      <td>3.409589</td>\n",
       "      <td>15.060959</td>\n",
       "      <td>2.758904</td>\n",
       "      <td>43.489041</td>\n",
       "      <td>6.321918</td>\n",
       "      <td>2007.815753</td>\n",
       "      <td>180921.195890</td>\n",
       "    </tr>\n",
       "    <tr>\n",
       "      <th>std</th>\n",
       "      <td>421.610009</td>\n",
       "      <td>42.300571</td>\n",
       "      <td>24.284752</td>\n",
       "      <td>9981.264932</td>\n",
       "      <td>1.382997</td>\n",
       "      <td>1.112799</td>\n",
       "      <td>30.202904</td>\n",
       "      <td>20.645407</td>\n",
       "      <td>181.066207</td>\n",
       "      <td>456.098091</td>\n",
       "      <td>...</td>\n",
       "      <td>125.338794</td>\n",
       "      <td>66.256028</td>\n",
       "      <td>61.119149</td>\n",
       "      <td>29.317331</td>\n",
       "      <td>55.757415</td>\n",
       "      <td>40.177307</td>\n",
       "      <td>496.123024</td>\n",
       "      <td>2.703626</td>\n",
       "      <td>1.328095</td>\n",
       "      <td>79442.502883</td>\n",
       "    </tr>\n",
       "    <tr>\n",
       "      <th>min</th>\n",
       "      <td>1.000000</td>\n",
       "      <td>20.000000</td>\n",
       "      <td>21.000000</td>\n",
       "      <td>1300.000000</td>\n",
       "      <td>1.000000</td>\n",
       "      <td>1.000000</td>\n",
       "      <td>1872.000000</td>\n",
       "      <td>1950.000000</td>\n",
       "      <td>0.000000</td>\n",
       "      <td>0.000000</td>\n",
       "      <td>...</td>\n",
       "      <td>0.000000</td>\n",
       "      <td>0.000000</td>\n",
       "      <td>0.000000</td>\n",
       "      <td>0.000000</td>\n",
       "      <td>0.000000</td>\n",
       "      <td>0.000000</td>\n",
       "      <td>0.000000</td>\n",
       "      <td>1.000000</td>\n",
       "      <td>2006.000000</td>\n",
       "      <td>34900.000000</td>\n",
       "    </tr>\n",
       "    <tr>\n",
       "      <th>25%</th>\n",
       "      <td>365.750000</td>\n",
       "      <td>20.000000</td>\n",
       "      <td>59.000000</td>\n",
       "      <td>7553.500000</td>\n",
       "      <td>5.000000</td>\n",
       "      <td>5.000000</td>\n",
       "      <td>1954.000000</td>\n",
       "      <td>1967.000000</td>\n",
       "      <td>0.000000</td>\n",
       "      <td>0.000000</td>\n",
       "      <td>...</td>\n",
       "      <td>0.000000</td>\n",
       "      <td>0.000000</td>\n",
       "      <td>0.000000</td>\n",
       "      <td>0.000000</td>\n",
       "      <td>0.000000</td>\n",
       "      <td>0.000000</td>\n",
       "      <td>0.000000</td>\n",
       "      <td>5.000000</td>\n",
       "      <td>2007.000000</td>\n",
       "      <td>129975.000000</td>\n",
       "    </tr>\n",
       "    <tr>\n",
       "      <th>50%</th>\n",
       "      <td>730.500000</td>\n",
       "      <td>50.000000</td>\n",
       "      <td>69.000000</td>\n",
       "      <td>9478.500000</td>\n",
       "      <td>6.000000</td>\n",
       "      <td>5.000000</td>\n",
       "      <td>1973.000000</td>\n",
       "      <td>1994.000000</td>\n",
       "      <td>0.000000</td>\n",
       "      <td>383.500000</td>\n",
       "      <td>...</td>\n",
       "      <td>0.000000</td>\n",
       "      <td>25.000000</td>\n",
       "      <td>0.000000</td>\n",
       "      <td>0.000000</td>\n",
       "      <td>0.000000</td>\n",
       "      <td>0.000000</td>\n",
       "      <td>0.000000</td>\n",
       "      <td>6.000000</td>\n",
       "      <td>2008.000000</td>\n",
       "      <td>163000.000000</td>\n",
       "    </tr>\n",
       "    <tr>\n",
       "      <th>75%</th>\n",
       "      <td>1095.250000</td>\n",
       "      <td>70.000000</td>\n",
       "      <td>80.000000</td>\n",
       "      <td>11601.500000</td>\n",
       "      <td>7.000000</td>\n",
       "      <td>6.000000</td>\n",
       "      <td>2000.000000</td>\n",
       "      <td>2004.000000</td>\n",
       "      <td>166.000000</td>\n",
       "      <td>712.250000</td>\n",
       "      <td>...</td>\n",
       "      <td>168.000000</td>\n",
       "      <td>68.000000</td>\n",
       "      <td>0.000000</td>\n",
       "      <td>0.000000</td>\n",
       "      <td>0.000000</td>\n",
       "      <td>0.000000</td>\n",
       "      <td>0.000000</td>\n",
       "      <td>8.000000</td>\n",
       "      <td>2009.000000</td>\n",
       "      <td>214000.000000</td>\n",
       "    </tr>\n",
       "    <tr>\n",
       "      <th>max</th>\n",
       "      <td>1460.000000</td>\n",
       "      <td>190.000000</td>\n",
       "      <td>313.000000</td>\n",
       "      <td>215245.000000</td>\n",
       "      <td>10.000000</td>\n",
       "      <td>9.000000</td>\n",
       "      <td>2010.000000</td>\n",
       "      <td>2010.000000</td>\n",
       "      <td>1600.000000</td>\n",
       "      <td>5644.000000</td>\n",
       "      <td>...</td>\n",
       "      <td>857.000000</td>\n",
       "      <td>547.000000</td>\n",
       "      <td>552.000000</td>\n",
       "      <td>508.000000</td>\n",
       "      <td>480.000000</td>\n",
       "      <td>738.000000</td>\n",
       "      <td>15500.000000</td>\n",
       "      <td>12.000000</td>\n",
       "      <td>2010.000000</td>\n",
       "      <td>755000.000000</td>\n",
       "    </tr>\n",
       "  </tbody>\n",
       "</table>\n",
       "<p>8 rows × 38 columns</p>\n",
       "</div>"
      ],
      "text/plain": [
       "                Id   MSSubClass  LotFrontage        LotArea  OverallQual  \\\n",
       "count  1460.000000  1460.000000  1201.000000    1460.000000  1460.000000   \n",
       "mean    730.500000    56.897260    70.049958   10516.828082     6.099315   \n",
       "std     421.610009    42.300571    24.284752    9981.264932     1.382997   \n",
       "min       1.000000    20.000000    21.000000    1300.000000     1.000000   \n",
       "25%     365.750000    20.000000    59.000000    7553.500000     5.000000   \n",
       "50%     730.500000    50.000000    69.000000    9478.500000     6.000000   \n",
       "75%    1095.250000    70.000000    80.000000   11601.500000     7.000000   \n",
       "max    1460.000000   190.000000   313.000000  215245.000000    10.000000   \n",
       "\n",
       "       OverallCond    YearBuilt  YearRemodAdd   MasVnrArea   BsmtFinSF1  \\\n",
       "count  1460.000000  1460.000000   1460.000000  1452.000000  1460.000000   \n",
       "mean      5.575342  1971.267808   1984.865753   103.685262   443.639726   \n",
       "std       1.112799    30.202904     20.645407   181.066207   456.098091   \n",
       "min       1.000000  1872.000000   1950.000000     0.000000     0.000000   \n",
       "25%       5.000000  1954.000000   1967.000000     0.000000     0.000000   \n",
       "50%       5.000000  1973.000000   1994.000000     0.000000   383.500000   \n",
       "75%       6.000000  2000.000000   2004.000000   166.000000   712.250000   \n",
       "max       9.000000  2010.000000   2010.000000  1600.000000  5644.000000   \n",
       "\n",
       "           ...         WoodDeckSF  OpenPorchSF  EnclosedPorch    3SsnPorch  \\\n",
       "count      ...        1460.000000  1460.000000    1460.000000  1460.000000   \n",
       "mean       ...          94.244521    46.660274      21.954110     3.409589   \n",
       "std        ...         125.338794    66.256028      61.119149    29.317331   \n",
       "min        ...           0.000000     0.000000       0.000000     0.000000   \n",
       "25%        ...           0.000000     0.000000       0.000000     0.000000   \n",
       "50%        ...           0.000000    25.000000       0.000000     0.000000   \n",
       "75%        ...         168.000000    68.000000       0.000000     0.000000   \n",
       "max        ...         857.000000   547.000000     552.000000   508.000000   \n",
       "\n",
       "       ScreenPorch     PoolArea       MiscVal       MoSold       YrSold  \\\n",
       "count  1460.000000  1460.000000   1460.000000  1460.000000  1460.000000   \n",
       "mean     15.060959     2.758904     43.489041     6.321918  2007.815753   \n",
       "std      55.757415    40.177307    496.123024     2.703626     1.328095   \n",
       "min       0.000000     0.000000      0.000000     1.000000  2006.000000   \n",
       "25%       0.000000     0.000000      0.000000     5.000000  2007.000000   \n",
       "50%       0.000000     0.000000      0.000000     6.000000  2008.000000   \n",
       "75%       0.000000     0.000000      0.000000     8.000000  2009.000000   \n",
       "max     480.000000   738.000000  15500.000000    12.000000  2010.000000   \n",
       "\n",
       "           SalePrice  \n",
       "count    1460.000000  \n",
       "mean   180921.195890  \n",
       "std     79442.502883  \n",
       "min     34900.000000  \n",
       "25%    129975.000000  \n",
       "50%    163000.000000  \n",
       "75%    214000.000000  \n",
       "max    755000.000000  \n",
       "\n",
       "[8 rows x 38 columns]"
      ]
     },
     "execution_count": 3,
     "metadata": {},
     "output_type": "execute_result"
    }
   ],
   "source": [
    "db.describe()"
   ]
  },
  {
   "cell_type": "code",
   "execution_count": 4,
   "metadata": {},
   "outputs": [
    {
     "data": {
      "text/html": [
       "<div>\n",
       "<style>\n",
       "    .dataframe thead tr:only-child th {\n",
       "        text-align: right;\n",
       "    }\n",
       "\n",
       "    .dataframe thead th {\n",
       "        text-align: left;\n",
       "    }\n",
       "\n",
       "    .dataframe tbody tr th {\n",
       "        vertical-align: top;\n",
       "    }\n",
       "</style>\n",
       "<table border=\"1\" class=\"dataframe\">\n",
       "  <thead>\n",
       "    <tr style=\"text-align: right;\">\n",
       "      <th></th>\n",
       "      <th>Id</th>\n",
       "      <th>MSSubClass</th>\n",
       "      <th>MSZoning</th>\n",
       "      <th>LotFrontage</th>\n",
       "      <th>LotArea</th>\n",
       "      <th>Street</th>\n",
       "      <th>Alley</th>\n",
       "      <th>LotShape</th>\n",
       "      <th>LandContour</th>\n",
       "      <th>Utilities</th>\n",
       "      <th>...</th>\n",
       "      <th>PoolArea</th>\n",
       "      <th>PoolQC</th>\n",
       "      <th>Fence</th>\n",
       "      <th>MiscFeature</th>\n",
       "      <th>MiscVal</th>\n",
       "      <th>MoSold</th>\n",
       "      <th>YrSold</th>\n",
       "      <th>SaleType</th>\n",
       "      <th>SaleCondition</th>\n",
       "      <th>SalePrice</th>\n",
       "    </tr>\n",
       "  </thead>\n",
       "  <tbody>\n",
       "    <tr>\n",
       "      <th>0</th>\n",
       "      <td>1</td>\n",
       "      <td>60</td>\n",
       "      <td>RL</td>\n",
       "      <td>65.0</td>\n",
       "      <td>8450</td>\n",
       "      <td>Pave</td>\n",
       "      <td>NaN</td>\n",
       "      <td>Reg</td>\n",
       "      <td>Lvl</td>\n",
       "      <td>AllPub</td>\n",
       "      <td>...</td>\n",
       "      <td>0</td>\n",
       "      <td>NaN</td>\n",
       "      <td>NaN</td>\n",
       "      <td>NaN</td>\n",
       "      <td>0</td>\n",
       "      <td>2</td>\n",
       "      <td>2008</td>\n",
       "      <td>WD</td>\n",
       "      <td>Normal</td>\n",
       "      <td>208500</td>\n",
       "    </tr>\n",
       "    <tr>\n",
       "      <th>1</th>\n",
       "      <td>2</td>\n",
       "      <td>20</td>\n",
       "      <td>RL</td>\n",
       "      <td>80.0</td>\n",
       "      <td>9600</td>\n",
       "      <td>Pave</td>\n",
       "      <td>NaN</td>\n",
       "      <td>Reg</td>\n",
       "      <td>Lvl</td>\n",
       "      <td>AllPub</td>\n",
       "      <td>...</td>\n",
       "      <td>0</td>\n",
       "      <td>NaN</td>\n",
       "      <td>NaN</td>\n",
       "      <td>NaN</td>\n",
       "      <td>0</td>\n",
       "      <td>5</td>\n",
       "      <td>2007</td>\n",
       "      <td>WD</td>\n",
       "      <td>Normal</td>\n",
       "      <td>181500</td>\n",
       "    </tr>\n",
       "  </tbody>\n",
       "</table>\n",
       "<p>2 rows × 81 columns</p>\n",
       "</div>"
      ],
      "text/plain": [
       "   Id  MSSubClass MSZoning  LotFrontage  LotArea Street Alley LotShape  \\\n",
       "0   1          60       RL         65.0     8450   Pave   NaN      Reg   \n",
       "1   2          20       RL         80.0     9600   Pave   NaN      Reg   \n",
       "\n",
       "  LandContour Utilities    ...     PoolArea PoolQC Fence MiscFeature MiscVal  \\\n",
       "0         Lvl    AllPub    ...            0    NaN   NaN         NaN       0   \n",
       "1         Lvl    AllPub    ...            0    NaN   NaN         NaN       0   \n",
       "\n",
       "  MoSold YrSold  SaleType  SaleCondition  SalePrice  \n",
       "0      2   2008        WD         Normal     208500  \n",
       "1      5   2007        WD         Normal     181500  \n",
       "\n",
       "[2 rows x 81 columns]"
      ]
     },
     "execution_count": 4,
     "metadata": {},
     "output_type": "execute_result"
    }
   ],
   "source": [
    "db.head(2)"
   ]
  },
  {
   "cell_type": "code",
   "execution_count": 5,
   "metadata": {},
   "outputs": [
    {
     "data": {
      "text/plain": [
       "(1460, 81)"
      ]
     },
     "execution_count": 5,
     "metadata": {},
     "output_type": "execute_result"
    }
   ],
   "source": [
    "db.shape"
   ]
  },
  {
   "cell_type": "markdown",
   "metadata": {},
   "source": [
    "(from kaggle kernel) We can see there are some outliers and do not make too much sense, since\n",
    "normally the price would increase as the area increase. Then we drop these two observations."
   ]
  },
  {
   "cell_type": "code",
   "execution_count": 6,
   "metadata": {},
   "outputs": [
    {
     "data": {
      "image/png": "[encoded data removed]",
      "text/plain": [
       "<matplotlib.figure.Figure at 0x111a6abe0>"
      ]
     },
     "metadata": {},
     "output_type": "display_data"
    }
   ],
   "source": [
    "fig, ax = plt.subplots()\n",
    "ax.scatter(x = db['GrLivArea'], y = db['SalePrice'])\n",
    "plt.ylabel('SalePrice', fontsize=13)\n",
    "plt.xlabel('GrLivArea', fontsize=13)\n",
    "plt.show()"
   ]
  },
  {
   "cell_type": "code",
   "execution_count": 7,
   "metadata": {},
   "outputs": [
    {
     "data": {
      "image/png": "[encoded data removed]",
      "text/plain": [
       "<matplotlib.figure.Figure at 0x1123ba208>"
      ]
     },
     "metadata": {},
     "output_type": "display_data"
    }
   ],
   "source": [
    "db = db.drop(db[(db['GrLivArea']>4000) & (db['SalePrice']<300000)].index)\n",
    "\n",
    "#Check the graphic again\n",
    "fig, ax = plt.subplots()\n",
    "ax.scatter(db['GrLivArea'], db['SalePrice'])\n",
    "plt.ylabel('SalePrice', fontsize=13)\n",
    "plt.xlabel('GrLivArea', fontsize=13)\n",
    "plt.show()"
   ]
  },
  {
   "cell_type": "markdown",
   "metadata": {},
   "source": [
    "# 2. Data cleaning"
   ]
  },
  {
   "cell_type": "markdown",
   "metadata": {},
   "source": [
    "Let's check the missing values"
   ]
  },
  {
   "cell_type": "code",
   "execution_count": 8,
   "metadata": {},
   "outputs": [
    {
     "data": {
      "text/plain": [
       "Id                  0\n",
       "MSSubClass          0\n",
       "MSZoning            4\n",
       "LotFrontage       227\n",
       "LotArea             0\n",
       "Street              0\n",
       "Alley            1352\n",
       "LotShape            0\n",
       "LandContour         0\n",
       "Utilities           2\n",
       "LotConfig           0\n",
       "LandSlope           0\n",
       "Neighborhood        0\n",
       "Condition1          0\n",
       "Condition2          0\n",
       "BldgType            0\n",
       "HouseStyle          0\n",
       "OverallQual         0\n",
       "OverallCond         0\n",
       "YearBuilt           0\n",
       "YearRemodAdd        0\n",
       "RoofStyle           0\n",
       "RoofMatl            0\n",
       "Exterior1st         1\n",
       "Exterior2nd         1\n",
       "MasVnrType         16\n",
       "MasVnrArea         15\n",
       "ExterQual           0\n",
       "ExterCond           0\n",
       "Foundation          0\n",
       "                 ... \n",
       "HalfBath            0\n",
       "BedroomAbvGr        0\n",
       "KitchenAbvGr        0\n",
       "KitchenQual         1\n",
       "TotRmsAbvGrd        0\n",
       "Functional          2\n",
       "Fireplaces          0\n",
       "FireplaceQu       730\n",
       "GarageType         76\n",
       "GarageYrBlt        78\n",
       "GarageFinish       78\n",
       "GarageCars          1\n",
       "GarageArea          1\n",
       "GarageQual         78\n",
       "GarageCond         78\n",
       "PavedDrive          0\n",
       "WoodDeckSF          0\n",
       "OpenPorchSF         0\n",
       "EnclosedPorch       0\n",
       "3SsnPorch           0\n",
       "ScreenPorch         0\n",
       "PoolArea            0\n",
       "PoolQC           1456\n",
       "Fence            1169\n",
       "MiscFeature      1408\n",
       "MiscVal             0\n",
       "MoSold              0\n",
       "YrSold              0\n",
       "SaleType            1\n",
       "SaleCondition       0\n",
       "Length: 80, dtype: int64"
      ]
     },
     "execution_count": 8,
     "metadata": {},
     "output_type": "execute_result"
    }
   ],
   "source": [
    "db.isnull().sum()\n",
    "db_test.isnull().sum()"
   ]
  },
  {
   "cell_type": "markdown",
   "metadata": {},
   "source": [
    "From above we can see that there are some columns have many missing vlaues. In order to not make the missing value miss lead our prediction, I am going to drop all the columns that have over 400 missing values. "
   ]
  },
  {
   "cell_type": "code",
   "execution_count": 9,
   "metadata": {
    "collapsed": true
   },
   "outputs": [],
   "source": [
    "db = db.drop(['Alley', 'FireplaceQu', \"PoolQC\", 'Fence','MiscFeature'], axis=1)"
   ]
  },
  {
   "cell_type": "code",
   "execution_count": 10,
   "metadata": {
    "collapsed": true
   },
   "outputs": [],
   "source": [
    "test = db_test.drop(['Alley', 'FireplaceQu', \"PoolQC\", 'Fence','MiscFeature'], axis=1)"
   ]
  },
  {
   "cell_type": "markdown",
   "metadata": {},
   "source": [
    "Since the Year, Quality, Condition, Class variables do not have much numeric meaning, we turn these variables into catogocial variabes.(We compared the result if we keep these variables as numberic variable, and we found this method would make some improvements in the result)"
   ]
  },
  {
   "cell_type": "code",
   "execution_count": 11,
   "metadata": {
    "collapsed": true
   },
   "outputs": [],
   "source": [
    "db[\"YearRemodAdd\"] =db[\"YearRemodAdd\"].astype('category')\n",
    "db[\"OverallQual\"]= db[\"OverallQual\"].astype('category')\n",
    "db[\"GarageYrBlt\"] =db[\"GarageYrBlt\"].astype('category')\n",
    "db[\"YearBuilt\"] =db[\"YearBuilt\"].astype('category')\n",
    "db[\"YrSold\"] =db[\"YrSold\"].astype('category')\n",
    "db[\"MoSold\"] =db[\"MoSold\"].astype('category')\n",
    "db[\"OverallCond\"] =db[\"OverallCond\"].astype('category')\n",
    "db[\"MSSubClass\"] =db[\"MSSubClass\"].astype('category')"
   ]
  },
  {
   "cell_type": "code",
   "execution_count": 12,
   "metadata": {
    "collapsed": true
   },
   "outputs": [],
   "source": [
    "test[\"YearRemodAdd\"] =test[\"YearRemodAdd\"].astype('category')\n",
    "test[\"OverallQual\"]= test[\"OverallQual\"].astype('category')\n",
    "test[\"GarageYrBlt\"] =test[\"GarageYrBlt\"].astype('category')\n",
    "test[\"YearBuilt\"] =test[\"YearBuilt\"].astype('category')\n",
    "test[\"YrSold\"] =test[\"YrSold\"].astype('category')\n",
    "test[\"MoSold\"] =test[\"MoSold\"].astype('category')\n",
    "test[\"OverallCond\"] =test[\"OverallCond\"].astype('category')\n",
    "test[\"MSSubClass\"] =test[\"MSSubClass\"].astype('category')"
   ]
  },
  {
   "cell_type": "markdown",
   "metadata": {},
   "source": [
    "Before we impute the missing values, we do the partition to avoid leakage."
   ]
  },
  {
   "cell_type": "code",
   "execution_count": 13,
   "metadata": {},
   "outputs": [
    {
     "name": "stderr",
     "output_type": "stream",
     "text": [
      "/Users/zengweihao/anaconda3/lib/python3.6/site-packages/sklearn/cross_validation.py:41: DeprecationWarning: This module was deprecated in version 0.18 in favor of the model_selection module into which all the refactored classes and functions are moved. Also note that the interface of the new CV iterators are different from that of this module. This module will be removed in 0.20.\n",
      "  \"This module will be removed in 0.20.\", DeprecationWarning)\n"
     ]
    }
   ],
   "source": [
    "from sklearn.cross_validation import train_test_split\n",
    "train, valid = train_test_split(db, test_size=0.2, random_state=123)"
   ]
  },
  {
   "cell_type": "markdown",
   "metadata": {},
   "source": [
    "now check the missing value again."
   ]
  },
  {
   "cell_type": "code",
   "execution_count": 14,
   "metadata": {},
   "outputs": [
    {
     "data": {
      "text/plain": [
       "Id                 0\n",
       "MSSubClass         0\n",
       "MSZoning           4\n",
       "LotFrontage      227\n",
       "LotArea            0\n",
       "Street             0\n",
       "LotShape           0\n",
       "LandContour        0\n",
       "Utilities          2\n",
       "LotConfig          0\n",
       "LandSlope          0\n",
       "Neighborhood       0\n",
       "Condition1         0\n",
       "Condition2         0\n",
       "BldgType           0\n",
       "HouseStyle         0\n",
       "OverallQual        0\n",
       "OverallCond        0\n",
       "YearBuilt          0\n",
       "YearRemodAdd       0\n",
       "RoofStyle          0\n",
       "RoofMatl           0\n",
       "Exterior1st        1\n",
       "Exterior2nd        1\n",
       "MasVnrType        16\n",
       "MasVnrArea        15\n",
       "ExterQual          0\n",
       "ExterCond          0\n",
       "Foundation         0\n",
       "BsmtQual          44\n",
       "                ... \n",
       "GrLivArea          0\n",
       "BsmtFullBath       2\n",
       "BsmtHalfBath       2\n",
       "FullBath           0\n",
       "HalfBath           0\n",
       "BedroomAbvGr       0\n",
       "KitchenAbvGr       0\n",
       "KitchenQual        1\n",
       "TotRmsAbvGrd       0\n",
       "Functional         2\n",
       "Fireplaces         0\n",
       "GarageType        76\n",
       "GarageYrBlt       78\n",
       "GarageFinish      78\n",
       "GarageCars         1\n",
       "GarageArea         1\n",
       "GarageQual        78\n",
       "GarageCond        78\n",
       "PavedDrive         0\n",
       "WoodDeckSF         0\n",
       "OpenPorchSF        0\n",
       "EnclosedPorch      0\n",
       "3SsnPorch          0\n",
       "ScreenPorch        0\n",
       "PoolArea           0\n",
       "MiscVal            0\n",
       "MoSold             0\n",
       "YrSold             0\n",
       "SaleType           1\n",
       "SaleCondition      0\n",
       "Length: 75, dtype: int64"
      ]
     },
     "execution_count": 14,
     "metadata": {},
     "output_type": "execute_result"
    }
   ],
   "source": [
    "train.isnull().sum()\n",
    "valid.isnull().sum()\n",
    "test.isnull().sum()"
   ]
  },
  {
   "cell_type": "markdown",
   "metadata": {},
   "source": [
    "Since we need to add some noise to the numeric variables, we have to check the variable type first."
   ]
  },
  {
   "cell_type": "code",
   "execution_count": 15,
   "metadata": {},
   "outputs": [
    {
     "data": {
      "text/plain": [
       "Id                  int64\n",
       "MSSubClass       category\n",
       "MSZoning           object\n",
       "LotFrontage       float64\n",
       "LotArea             int64\n",
       "Street             object\n",
       "LotShape           object\n",
       "LandContour        object\n",
       "Utilities          object\n",
       "LotConfig          object\n",
       "LandSlope          object\n",
       "Neighborhood       object\n",
       "Condition1         object\n",
       "Condition2         object\n",
       "BldgType           object\n",
       "HouseStyle         object\n",
       "OverallQual      category\n",
       "OverallCond      category\n",
       "YearBuilt        category\n",
       "YearRemodAdd     category\n",
       "RoofStyle          object\n",
       "RoofMatl           object\n",
       "Exterior1st        object\n",
       "Exterior2nd        object\n",
       "MasVnrType         object\n",
       "MasVnrArea        float64\n",
       "ExterQual          object\n",
       "ExterCond          object\n",
       "Foundation         object\n",
       "BsmtQual           object\n",
       "                   ...   \n",
       "BsmtFullBath        int64\n",
       "BsmtHalfBath        int64\n",
       "FullBath            int64\n",
       "HalfBath            int64\n",
       "BedroomAbvGr        int64\n",
       "KitchenAbvGr        int64\n",
       "KitchenQual        object\n",
       "TotRmsAbvGrd        int64\n",
       "Functional         object\n",
       "Fireplaces          int64\n",
       "GarageType         object\n",
       "GarageYrBlt      category\n",
       "GarageFinish       object\n",
       "GarageCars          int64\n",
       "GarageArea          int64\n",
       "GarageQual         object\n",
       "GarageCond         object\n",
       "PavedDrive         object\n",
       "WoodDeckSF          int64\n",
       "OpenPorchSF         int64\n",
       "EnclosedPorch       int64\n",
       "3SsnPorch           int64\n",
       "ScreenPorch         int64\n",
       "PoolArea            int64\n",
       "MiscVal             int64\n",
       "MoSold           category\n",
       "YrSold           category\n",
       "SaleType           object\n",
       "SaleCondition      object\n",
       "SalePrice           int64\n",
       "Length: 76, dtype: object"
      ]
     },
     "execution_count": 15,
     "metadata": {},
     "output_type": "execute_result"
    }
   ],
   "source": [
    "db.dtypes"
   ]
  },
  {
   "cell_type": "markdown",
   "metadata": {},
   "source": [
    "For the missing values, we assign them with new values according to the frequency of those non missing values, which make the values have simlar distribution after we impute the missing values. For those variables with large numeric values, we add more noise to them than those with small numeric values. "
   ]
  },
  {
   "cell_type": "code",
   "execution_count": 16,
   "metadata": {},
   "outputs": [
    {
     "name": "stderr",
     "output_type": "stream",
     "text": [
      "/Users/zengweihao/anaconda3/lib/python3.6/site-packages/ipykernel_launcher.py:5: SettingWithCopyWarning: \n",
      "A value is trying to be set on a copy of a slice from a DataFrame.\n",
      "Try using .loc[row_indexer,col_indexer] = value instead\n",
      "\n",
      "See the caveats in the documentation: http://pandas.pydata.org/pandas-docs/stable/indexing.html#indexing-view-versus-copy\n",
      "  \"\"\"\n",
      "/Users/zengweihao/anaconda3/lib/python3.6/site-packages/ipykernel_launcher.py:6: SettingWithCopyWarning: \n",
      "A value is trying to be set on a copy of a slice from a DataFrame.\n",
      "Try using .loc[row_indexer,col_indexer] = value instead\n",
      "\n",
      "See the caveats in the documentation: http://pandas.pydata.org/pandas-docs/stable/indexing.html#indexing-view-versus-copy\n",
      "  \n",
      "/Users/zengweihao/anaconda3/lib/python3.6/site-packages/ipykernel_launcher.py:13: SettingWithCopyWarning: \n",
      "A value is trying to be set on a copy of a slice from a DataFrame.\n",
      "Try using .loc[row_indexer,col_indexer] = value instead\n",
      "\n",
      "See the caveats in the documentation: http://pandas.pydata.org/pandas-docs/stable/indexing.html#indexing-view-versus-copy\n",
      "  del sys.path[0]\n",
      "/Users/zengweihao/anaconda3/lib/python3.6/site-packages/ipykernel_launcher.py:14: SettingWithCopyWarning: \n",
      "A value is trying to be set on a copy of a slice from a DataFrame.\n",
      "Try using .loc[row_indexer,col_indexer] = value instead\n",
      "\n",
      "See the caveats in the documentation: http://pandas.pydata.org/pandas-docs/stable/indexing.html#indexing-view-versus-copy\n",
      "  \n",
      "/Users/zengweihao/anaconda3/lib/python3.6/site-packages/ipykernel_launcher.py:20: SettingWithCopyWarning: \n",
      "A value is trying to be set on a copy of a slice from a DataFrame.\n",
      "Try using .loc[row_indexer,col_indexer] = value instead\n",
      "\n",
      "See the caveats in the documentation: http://pandas.pydata.org/pandas-docs/stable/indexing.html#indexing-view-versus-copy\n",
      "/Users/zengweihao/anaconda3/lib/python3.6/site-packages/ipykernel_launcher.py:21: SettingWithCopyWarning: \n",
      "A value is trying to be set on a copy of a slice from a DataFrame.\n",
      "Try using .loc[row_indexer,col_indexer] = value instead\n",
      "\n",
      "See the caveats in the documentation: http://pandas.pydata.org/pandas-docs/stable/indexing.html#indexing-view-versus-copy\n"
     ]
    }
   ],
   "source": [
    "#for categorical variables\n",
    "for column in [\"MSZoning\",\"Utilities\",\"Exterior1st\",\"Exterior2nd\",\"KitchenQual\",\"Functional\",\n",
    "              \"SaleType\",\"MasVnrType\",\"BsmtQual\",\"BsmtCond\",\"BsmtExposure\",\"BsmtFinType2\",\"Electrical\",\n",
    "               \"BsmtFinType1\",\"GarageYrBlt\",\"GarageType\",\"GarageFinish\",\"GarageQual\",\"GarageCond\"]:\n",
    "    train[column]=train[column].fillna(np.random.choice(train[column].dropna()))\n",
    "    valid[column]=valid[column].fillna(np.random.choice(valid[column].dropna()))\n",
    "    test[column]=test[column].fillna(np.random.choice(test[column].dropna()))\n",
    "    \n",
    "#for large numeric variables\n",
    "for column in [\"GarageArea\",\"TotalBsmtSF\",\n",
    "               \"BsmtFinSF1\",\"LotFrontage\",\"BsmtFinSF2\",\"BsmtUnfSF\",\n",
    "               \"MasVnrArea\"]:\n",
    "    train[column]=train[column].fillna(np.random.choice(train[column].dropna()+np.random.normal(0,5)))\n",
    "    valid[column]=valid[column].fillna(np.random.choice(valid[column].dropna()+np.random.normal(0,5)))\n",
    "    test[column]=test[column].fillna(np.random.choice(test[column].dropna()+np.random.normal(0,5)))\n",
    "\n",
    "    \n",
    "#for small numeric variables  \n",
    "for column in [\"GarageCars\",\"BsmtFullBath\",\"BsmtHalfBath\"]:\n",
    "    train[column]=train[column].fillna(np.random.choice(train[column].dropna()+np.random.normal(0,1)))\n",
    "    valid[column]=valid[column].fillna(np.random.choice(valid[column].dropna()+np.random.normal(0,1)))\n",
    "    test[column]=test[column].fillna(np.random.choice(test[column].dropna()+np.random.normal(0,1)))"
   ]
  },
  {
   "cell_type": "code",
   "execution_count": 17,
   "metadata": {},
   "outputs": [
    {
     "data": {
      "text/plain": [
       "Series([], dtype: float64)"
      ]
     },
     "execution_count": 17,
     "metadata": {},
     "output_type": "execute_result"
    }
   ],
   "source": [
    "null_columns=train.columns[train.isnull().any()]\n",
    "train[null_columns].isnull().sum()"
   ]
  },
  {
   "cell_type": "code",
   "execution_count": 18,
   "metadata": {},
   "outputs": [
    {
     "data": {
      "text/plain": [
       "Series([], dtype: float64)"
      ]
     },
     "execution_count": 18,
     "metadata": {},
     "output_type": "execute_result"
    }
   ],
   "source": [
    "null_columns=valid.columns[valid.isnull().any()]\n",
    "valid[null_columns].isnull().sum()"
   ]
  },
  {
   "cell_type": "code",
   "execution_count": 19,
   "metadata": {},
   "outputs": [
    {
     "data": {
      "text/plain": [
       "Series([], dtype: float64)"
      ]
     },
     "execution_count": 19,
     "metadata": {},
     "output_type": "execute_result"
    }
   ],
   "source": [
    "null_columns=test.columns[test.isnull().any()]\n",
    "test[null_columns].isnull().sum()"
   ]
  },
  {
   "cell_type": "markdown",
   "metadata": {},
   "source": [
    "now we have already impute all missing values"
   ]
  },
  {
   "cell_type": "markdown",
   "metadata": {},
   "source": [
    "# 3. Feature engineering"
   ]
  },
  {
   "cell_type": "markdown",
   "metadata": {},
   "source": [
    "At first, we try using target encoding to those categorical variable, but the result was not satisfying. We can skip this step because when we use H2O to fit the model, it would do taget encoding automatically."
   ]
  },
  {
   "cell_type": "markdown",
   "metadata": {},
   "source": [
    "When we explore the data earlier, we find there is many variables related to area and room, then we add new colums from these variables. And we find this step help improve the prediction."
   ]
  },
  {
   "cell_type": "code",
   "execution_count": 20,
   "metadata": {},
   "outputs": [
    {
     "name": "stderr",
     "output_type": "stream",
     "text": [
      "/Users/zengweihao/anaconda3/lib/python3.6/site-packages/ipykernel_launcher.py:1: SettingWithCopyWarning: \n",
      "A value is trying to be set on a copy of a slice from a DataFrame.\n",
      "Try using .loc[row_indexer,col_indexer] = value instead\n",
      "\n",
      "See the caveats in the documentation: http://pandas.pydata.org/pandas-docs/stable/indexing.html#indexing-view-versus-copy\n",
      "  \"\"\"Entry point for launching an IPython kernel.\n",
      "/Users/zengweihao/anaconda3/lib/python3.6/site-packages/ipykernel_launcher.py:2: SettingWithCopyWarning: \n",
      "A value is trying to be set on a copy of a slice from a DataFrame.\n",
      "Try using .loc[row_indexer,col_indexer] = value instead\n",
      "\n",
      "See the caveats in the documentation: http://pandas.pydata.org/pandas-docs/stable/indexing.html#indexing-view-versus-copy\n",
      "  \n"
     ]
    }
   ],
   "source": [
    "train[\"TotalLivingArea\"] = train[\"TotalBsmtSF\"]+train[\"1stFlrSF\"]+train[\"2ndFlrSF\"]+train[\"GrLivArea\"]+train[\"GarageArea\"]+train[\"WoodDeckSF\"]+train[\"OpenPorchSF\"]+train[\"EnclosedPorch\"]+train[\"ScreenPorch\"]\n",
    "valid[\"TotalLivingArea\"] = valid[\"TotalBsmtSF\"]+valid[\"1stFlrSF\"]+valid[\"2ndFlrSF\"]+valid[\"GrLivArea\"]+valid[\"GarageArea\"]+valid[\"WoodDeckSF\"]+valid[\"OpenPorchSF\"]+valid[\"EnclosedPorch\"]+valid[\"ScreenPorch\"]\n",
    "test[\"TotalLivingArea\"] = test[\"TotalBsmtSF\"]+test[\"1stFlrSF\"]+test[\"2ndFlrSF\"]+test[\"GrLivArea\"]+test[\"GarageArea\"]+test[\"WoodDeckSF\"]+test[\"OpenPorchSF\"]+test[\"EnclosedPorch\"]+test[\"ScreenPorch\"]"
   ]
  },
  {
   "cell_type": "code",
   "execution_count": 21,
   "metadata": {},
   "outputs": [
    {
     "name": "stderr",
     "output_type": "stream",
     "text": [
      "/Users/zengweihao/anaconda3/lib/python3.6/site-packages/ipykernel_launcher.py:1: SettingWithCopyWarning: \n",
      "A value is trying to be set on a copy of a slice from a DataFrame.\n",
      "Try using .loc[row_indexer,col_indexer] = value instead\n",
      "\n",
      "See the caveats in the documentation: http://pandas.pydata.org/pandas-docs/stable/indexing.html#indexing-view-versus-copy\n",
      "  \"\"\"Entry point for launching an IPython kernel.\n",
      "/Users/zengweihao/anaconda3/lib/python3.6/site-packages/ipykernel_launcher.py:2: SettingWithCopyWarning: \n",
      "A value is trying to be set on a copy of a slice from a DataFrame.\n",
      "Try using .loc[row_indexer,col_indexer] = value instead\n",
      "\n",
      "See the caveats in the documentation: http://pandas.pydata.org/pandas-docs/stable/indexing.html#indexing-view-versus-copy\n",
      "  \n"
     ]
    }
   ],
   "source": [
    "train[\"TotalBathRoom\"]= train[\"FullBath\"]+ 0.5*train[\"HalfBath\"]+train[\"BsmtFullBath\"]\n",
    "valid[\"TotalBathRoom\"]= valid[\"FullBath\"]+ 0.5*valid[\"HalfBath\"]+valid[\"BsmtFullBath\"]\n",
    "test[\"TotalBathRoom\"]= test[\"FullBath\"]+ 0.5*test[\"HalfBath\"]+test[\"BsmtFullBath\"]"
   ]
  },
  {
   "cell_type": "markdown",
   "metadata": {},
   "source": [
    "Then we check the correlation of the variables, we would like to drop those variables with low correlations to the target vairbles. Before that, we move the target variable to the last column for convenience."
   ]
  },
  {
   "cell_type": "code",
   "execution_count": 22,
   "metadata": {},
   "outputs": [
    {
     "name": "stderr",
     "output_type": "stream",
     "text": [
      "/Users/zengweihao/anaconda3/lib/python3.6/site-packages/ipykernel_launcher.py:1: SettingWithCopyWarning: \n",
      "A value is trying to be set on a copy of a slice from a DataFrame.\n",
      "Try using .loc[row_indexer,col_indexer] = value instead\n",
      "\n",
      "See the caveats in the documentation: http://pandas.pydata.org/pandas-docs/stable/indexing.html#indexing-view-versus-copy\n",
      "  \"\"\"Entry point for launching an IPython kernel.\n",
      "/Users/zengweihao/anaconda3/lib/python3.6/site-packages/ipykernel_launcher.py:2: SettingWithCopyWarning: \n",
      "A value is trying to be set on a copy of a slice from a DataFrame.\n",
      "Try using .loc[row_indexer,col_indexer] = value instead\n",
      "\n",
      "See the caveats in the documentation: http://pandas.pydata.org/pandas-docs/stable/indexing.html#indexing-view-versus-copy\n",
      "  \n"
     ]
    }
   ],
   "source": [
    "train[\"saleprice\"]=train[\"SalePrice\"]\n",
    "valid[\"saleprice\"]=valid[\"SalePrice\"]\n",
    "\n",
    "del train[\"SalePrice\"]\n",
    "del valid[\"SalePrice\"]"
   ]
  },
  {
   "cell_type": "code",
   "execution_count": 23,
   "metadata": {},
   "outputs": [
    {
     "data": {
      "text/plain": [
       "(32, 32)"
      ]
     },
     "execution_count": 23,
     "metadata": {},
     "output_type": "execute_result"
    }
   ],
   "source": [
    "train.corr().shape"
   ]
  },
  {
   "cell_type": "code",
   "execution_count": 24,
   "metadata": {},
   "outputs": [
    {
     "data": {
      "text/plain": [
       "Id                -0.003859\n",
       "LotFrontage        0.357566\n",
       "LotArea            0.279026\n",
       "MasVnrArea         0.489915\n",
       "BsmtFinSF1         0.429185\n",
       "BsmtFinSF2        -0.000001\n",
       "BsmtUnfSF          0.192743\n",
       "TotalBsmtSF        0.657661\n",
       "1stFlrSF           0.628156\n",
       "2ndFlrSF           0.313961\n",
       "LowQualFinSF      -0.048254\n",
       "GrLivArea          0.729442\n",
       "BsmtFullBath       0.246471\n",
       "BsmtHalfBath      -0.013596\n",
       "FullBath           0.558325\n",
       "HalfBath           0.282365\n",
       "BedroomAbvGr       0.155140\n",
       "KitchenAbvGr      -0.136950\n",
       "TotRmsAbvGrd       0.526401\n",
       "Fireplaces         0.452571\n",
       "GarageCars         0.631910\n",
       "GarageArea         0.630899\n",
       "WoodDeckSF         0.319319\n",
       "OpenPorchSF        0.309806\n",
       "EnclosedPorch     -0.120682\n",
       "3SsnPorch          0.041779\n",
       "ScreenPorch        0.082858\n",
       "PoolArea           0.107587\n",
       "MiscVal           -0.009430\n",
       "TotalLivingArea    0.839652\n",
       "TotalBathRoom      0.631946\n",
       "saleprice          1.000000\n",
       "Name: saleprice, dtype: float64"
      ]
     },
     "execution_count": 24,
     "metadata": {},
     "output_type": "execute_result"
    }
   ],
   "source": [
    "train.corr().loc[:,'saleprice']"
   ]
  },
  {
   "cell_type": "code",
   "execution_count": 25,
   "metadata": {},
   "outputs": [
    {
     "data": {
      "text/html": [
       "<div>\n",
       "<style>\n",
       "    .dataframe thead tr:only-child th {\n",
       "        text-align: right;\n",
       "    }\n",
       "\n",
       "    .dataframe thead th {\n",
       "        text-align: left;\n",
       "    }\n",
       "\n",
       "    .dataframe tbody tr th {\n",
       "        vertical-align: top;\n",
       "    }\n",
       "</style>\n",
       "<table border=\"1\" class=\"dataframe\">\n",
       "  <thead>\n",
       "    <tr style=\"text-align: right;\">\n",
       "      <th></th>\n",
       "      <th>Id</th>\n",
       "      <th>LotFrontage</th>\n",
       "      <th>LotArea</th>\n",
       "      <th>MasVnrArea</th>\n",
       "      <th>BsmtFinSF1</th>\n",
       "      <th>BsmtFinSF2</th>\n",
       "      <th>BsmtUnfSF</th>\n",
       "      <th>TotalBsmtSF</th>\n",
       "      <th>1stFlrSF</th>\n",
       "      <th>2ndFlrSF</th>\n",
       "      <th>...</th>\n",
       "      <th>WoodDeckSF</th>\n",
       "      <th>OpenPorchSF</th>\n",
       "      <th>EnclosedPorch</th>\n",
       "      <th>3SsnPorch</th>\n",
       "      <th>ScreenPorch</th>\n",
       "      <th>PoolArea</th>\n",
       "      <th>MiscVal</th>\n",
       "      <th>TotalLivingArea</th>\n",
       "      <th>TotalBathRoom</th>\n",
       "      <th>saleprice</th>\n",
       "    </tr>\n",
       "  </thead>\n",
       "  <tbody>\n",
       "    <tr>\n",
       "      <th>saleprice</th>\n",
       "      <td>-0.003859</td>\n",
       "      <td>0.357566</td>\n",
       "      <td>0.279026</td>\n",
       "      <td>0.489915</td>\n",
       "      <td>0.429185</td>\n",
       "      <td>-0.000001</td>\n",
       "      <td>0.192743</td>\n",
       "      <td>0.657661</td>\n",
       "      <td>0.628156</td>\n",
       "      <td>0.313961</td>\n",
       "      <td>...</td>\n",
       "      <td>0.319319</td>\n",
       "      <td>0.309806</td>\n",
       "      <td>-0.120682</td>\n",
       "      <td>0.041779</td>\n",
       "      <td>0.082858</td>\n",
       "      <td>0.107587</td>\n",
       "      <td>-0.00943</td>\n",
       "      <td>0.839652</td>\n",
       "      <td>0.631946</td>\n",
       "      <td>1.0</td>\n",
       "    </tr>\n",
       "  </tbody>\n",
       "</table>\n",
       "<p>1 rows × 32 columns</p>\n",
       "</div>"
      ],
      "text/plain": [
       "                 Id  LotFrontage   LotArea  MasVnrArea  BsmtFinSF1  \\\n",
       "saleprice -0.003859     0.357566  0.279026    0.489915    0.429185   \n",
       "\n",
       "           BsmtFinSF2  BsmtUnfSF  TotalBsmtSF  1stFlrSF  2ndFlrSF    ...      \\\n",
       "saleprice   -0.000001   0.192743     0.657661  0.628156  0.313961    ...       \n",
       "\n",
       "           WoodDeckSF  OpenPorchSF  EnclosedPorch  3SsnPorch  ScreenPorch  \\\n",
       "saleprice    0.319319     0.309806      -0.120682   0.041779     0.082858   \n",
       "\n",
       "           PoolArea  MiscVal  TotalLivingArea  TotalBathRoom  saleprice  \n",
       "saleprice  0.107587 -0.00943         0.839652       0.631946        1.0  \n",
       "\n",
       "[1 rows x 32 columns]"
      ]
     },
     "execution_count": 25,
     "metadata": {},
     "output_type": "execute_result"
    }
   ],
   "source": [
    "ycor=train.corr().iloc[31:32,:32]\n",
    "ycor\n"
   ]
  },
  {
   "cell_type": "code",
   "execution_count": 26,
   "metadata": {},
   "outputs": [
    {
     "data": {
      "text/plain": [
       "['Id',\n",
       " 'LotFrontage',\n",
       " 'LotArea',\n",
       " 'BsmtFinSF2',\n",
       " 'BsmtUnfSF',\n",
       " '2ndFlrSF',\n",
       " 'LowQualFinSF',\n",
       " 'BsmtFullBath',\n",
       " 'BsmtHalfBath',\n",
       " 'HalfBath',\n",
       " 'BedroomAbvGr',\n",
       " 'KitchenAbvGr',\n",
       " 'WoodDeckSF',\n",
       " 'OpenPorchSF',\n",
       " 'EnclosedPorch',\n",
       " '3SsnPorch',\n",
       " 'ScreenPorch',\n",
       " 'PoolArea',\n",
       " 'MiscVal']"
      ]
     },
     "execution_count": 26,
     "metadata": {},
     "output_type": "execute_result"
    }
   ],
   "source": [
    "# we find using 0.4 as threshold would achive better result than 0.2,0.3,0.45 and 0.5\n",
    "to_drop = [column for column in ycor.columns if any(abs(ycor[column] )<0.4)]\n",
    "to_drop"
   ]
  },
  {
   "cell_type": "code",
   "execution_count": 27,
   "metadata": {
    "collapsed": true
   },
   "outputs": [],
   "source": [
    "for i in to_drop:\n",
    "    del train[i]\n",
    "    del valid[i]\n",
    "    del test[i]"
   ]
  },
  {
   "cell_type": "code",
   "execution_count": 28,
   "metadata": {},
   "outputs": [
    {
     "data": {
      "text/plain": [
       "(13, 13)"
      ]
     },
     "execution_count": 28,
     "metadata": {},
     "output_type": "execute_result"
    }
   ],
   "source": [
    "train.corr().shape"
   ]
  },
  {
   "cell_type": "markdown",
   "metadata": {},
   "source": [
    "Also we found multicollinearity among some variables, but no matter we use principle component or simply use feature selection, the methods did not make a better result when we removed those highly correlated variables."
   ]
  },
  {
   "cell_type": "markdown",
   "metadata": {},
   "source": [
    "Then we looked at the scale of all numeric variables. To avoid some varibles dominate the model, we standardize numeric variables. In this part, we attempted using winsorizing and binning, but none of the methods helped with the accuracy of the prediction."
   ]
  },
  {
   "cell_type": "code",
   "execution_count": 29,
   "metadata": {},
   "outputs": [
    {
     "data": {
      "text/html": [
       "<div>\n",
       "<style>\n",
       "    .dataframe thead tr:only-child th {\n",
       "        text-align: right;\n",
       "    }\n",
       "\n",
       "    .dataframe thead th {\n",
       "        text-align: left;\n",
       "    }\n",
       "\n",
       "    .dataframe tbody tr th {\n",
       "        vertical-align: top;\n",
       "    }\n",
       "</style>\n",
       "<table border=\"1\" class=\"dataframe\">\n",
       "  <thead>\n",
       "    <tr style=\"text-align: right;\">\n",
       "      <th></th>\n",
       "      <th>MasVnrArea</th>\n",
       "      <th>BsmtFinSF1</th>\n",
       "      <th>TotalBsmtSF</th>\n",
       "      <th>1stFlrSF</th>\n",
       "      <th>GrLivArea</th>\n",
       "      <th>FullBath</th>\n",
       "      <th>TotRmsAbvGrd</th>\n",
       "      <th>Fireplaces</th>\n",
       "      <th>GarageCars</th>\n",
       "      <th>GarageArea</th>\n",
       "      <th>TotalLivingArea</th>\n",
       "      <th>TotalBathRoom</th>\n",
       "      <th>saleprice</th>\n",
       "    </tr>\n",
       "  </thead>\n",
       "  <tbody>\n",
       "    <tr>\n",
       "      <th>count</th>\n",
       "      <td>1166.000000</td>\n",
       "      <td>1166.000000</td>\n",
       "      <td>1166.000000</td>\n",
       "      <td>1166.000000</td>\n",
       "      <td>1166.000000</td>\n",
       "      <td>1166.000000</td>\n",
       "      <td>1166.000000</td>\n",
       "      <td>1166.000000</td>\n",
       "      <td>1166.000000</td>\n",
       "      <td>1166.000000</td>\n",
       "      <td>1166.000000</td>\n",
       "      <td>1166.000000</td>\n",
       "      <td>1166.000000</td>\n",
       "    </tr>\n",
       "    <tr>\n",
       "      <th>mean</th>\n",
       "      <td>102.821116</td>\n",
       "      <td>450.463122</td>\n",
       "      <td>1061.599485</td>\n",
       "      <td>1168.314751</td>\n",
       "      <td>1507.042882</td>\n",
       "      <td>1.568611</td>\n",
       "      <td>6.508576</td>\n",
       "      <td>0.599485</td>\n",
       "      <td>1.762436</td>\n",
       "      <td>470.102058</td>\n",
       "      <td>4716.921955</td>\n",
       "      <td>2.184820</td>\n",
       "      <td>181504.937393</td>\n",
       "    </tr>\n",
       "    <tr>\n",
       "      <th>std</th>\n",
       "      <td>173.603150</td>\n",
       "      <td>441.781697</td>\n",
       "      <td>419.075088</td>\n",
       "      <td>376.069411</td>\n",
       "      <td>507.512040</td>\n",
       "      <td>0.544982</td>\n",
       "      <td>1.612562</td>\n",
       "      <td>0.635137</td>\n",
       "      <td>0.741877</td>\n",
       "      <td>208.635713</td>\n",
       "      <td>1437.661242</td>\n",
       "      <td>0.796409</td>\n",
       "      <td>80444.008030</td>\n",
       "    </tr>\n",
       "    <tr>\n",
       "      <th>min</th>\n",
       "      <td>0.000000</td>\n",
       "      <td>0.000000</td>\n",
       "      <td>0.000000</td>\n",
       "      <td>334.000000</td>\n",
       "      <td>334.000000</td>\n",
       "      <td>0.000000</td>\n",
       "      <td>2.000000</td>\n",
       "      <td>0.000000</td>\n",
       "      <td>0.000000</td>\n",
       "      <td>0.000000</td>\n",
       "      <td>668.000000</td>\n",
       "      <td>1.000000</td>\n",
       "      <td>34900.000000</td>\n",
       "    </tr>\n",
       "    <tr>\n",
       "      <th>25%</th>\n",
       "      <td>0.000000</td>\n",
       "      <td>0.000000</td>\n",
       "      <td>804.000000</td>\n",
       "      <td>888.000000</td>\n",
       "      <td>1132.500000</td>\n",
       "      <td>1.000000</td>\n",
       "      <td>5.000000</td>\n",
       "      <td>0.000000</td>\n",
       "      <td>1.000000</td>\n",
       "      <td>336.000000</td>\n",
       "      <td>3730.500000</td>\n",
       "      <td>2.000000</td>\n",
       "      <td>129600.000000</td>\n",
       "    </tr>\n",
       "    <tr>\n",
       "      <th>50%</th>\n",
       "      <td>0.000000</td>\n",
       "      <td>389.000000</td>\n",
       "      <td>1008.000000</td>\n",
       "      <td>1098.000000</td>\n",
       "      <td>1456.000000</td>\n",
       "      <td>2.000000</td>\n",
       "      <td>6.000000</td>\n",
       "      <td>1.000000</td>\n",
       "      <td>2.000000</td>\n",
       "      <td>478.000000</td>\n",
       "      <td>4556.500000</td>\n",
       "      <td>2.000000</td>\n",
       "      <td>163950.000000</td>\n",
       "    </tr>\n",
       "    <tr>\n",
       "      <th>75%</th>\n",
       "      <td>166.000000</td>\n",
       "      <td>733.000000</td>\n",
       "      <td>1310.750000</td>\n",
       "      <td>1409.500000</td>\n",
       "      <td>1768.000000</td>\n",
       "      <td>2.000000</td>\n",
       "      <td>7.000000</td>\n",
       "      <td>1.000000</td>\n",
       "      <td>2.000000</td>\n",
       "      <td>576.000000</td>\n",
       "      <td>5539.000000</td>\n",
       "      <td>2.500000</td>\n",
       "      <td>214000.000000</td>\n",
       "    </tr>\n",
       "    <tr>\n",
       "      <th>max</th>\n",
       "      <td>1378.000000</td>\n",
       "      <td>2188.000000</td>\n",
       "      <td>3200.000000</td>\n",
       "      <td>3228.000000</td>\n",
       "      <td>4476.000000</td>\n",
       "      <td>3.000000</td>\n",
       "      <td>14.000000</td>\n",
       "      <td>3.000000</td>\n",
       "      <td>4.000000</td>\n",
       "      <td>1390.000000</td>\n",
       "      <td>12410.000000</td>\n",
       "      <td>6.000000</td>\n",
       "      <td>755000.000000</td>\n",
       "    </tr>\n",
       "  </tbody>\n",
       "</table>\n",
       "</div>"
      ],
      "text/plain": [
       "        MasVnrArea   BsmtFinSF1  TotalBsmtSF     1stFlrSF    GrLivArea  \\\n",
       "count  1166.000000  1166.000000  1166.000000  1166.000000  1166.000000   \n",
       "mean    102.821116   450.463122  1061.599485  1168.314751  1507.042882   \n",
       "std     173.603150   441.781697   419.075088   376.069411   507.512040   \n",
       "min       0.000000     0.000000     0.000000   334.000000   334.000000   \n",
       "25%       0.000000     0.000000   804.000000   888.000000  1132.500000   \n",
       "50%       0.000000   389.000000  1008.000000  1098.000000  1456.000000   \n",
       "75%     166.000000   733.000000  1310.750000  1409.500000  1768.000000   \n",
       "max    1378.000000  2188.000000  3200.000000  3228.000000  4476.000000   \n",
       "\n",
       "          FullBath  TotRmsAbvGrd   Fireplaces   GarageCars   GarageArea  \\\n",
       "count  1166.000000   1166.000000  1166.000000  1166.000000  1166.000000   \n",
       "mean      1.568611      6.508576     0.599485     1.762436   470.102058   \n",
       "std       0.544982      1.612562     0.635137     0.741877   208.635713   \n",
       "min       0.000000      2.000000     0.000000     0.000000     0.000000   \n",
       "25%       1.000000      5.000000     0.000000     1.000000   336.000000   \n",
       "50%       2.000000      6.000000     1.000000     2.000000   478.000000   \n",
       "75%       2.000000      7.000000     1.000000     2.000000   576.000000   \n",
       "max       3.000000     14.000000     3.000000     4.000000  1390.000000   \n",
       "\n",
       "       TotalLivingArea  TotalBathRoom      saleprice  \n",
       "count      1166.000000    1166.000000    1166.000000  \n",
       "mean       4716.921955       2.184820  181504.937393  \n",
       "std        1437.661242       0.796409   80444.008030  \n",
       "min         668.000000       1.000000   34900.000000  \n",
       "25%        3730.500000       2.000000  129600.000000  \n",
       "50%        4556.500000       2.000000  163950.000000  \n",
       "75%        5539.000000       2.500000  214000.000000  \n",
       "max       12410.000000       6.000000  755000.000000  "
      ]
     },
     "execution_count": 29,
     "metadata": {},
     "output_type": "execute_result"
    }
   ],
   "source": [
    "train.describe()"
   ]
  },
  {
   "cell_type": "code",
   "execution_count": 30,
   "metadata": {},
   "outputs": [
    {
     "data": {
      "text/plain": [
       "Index(['MasVnrArea', 'BsmtFinSF1', 'TotalBsmtSF', '1stFlrSF', 'GrLivArea',\n",
       "       'FullBath', 'TotRmsAbvGrd', 'Fireplaces', 'GarageCars', 'GarageArea',\n",
       "       'TotalLivingArea', 'TotalBathRoom', 'saleprice'],\n",
       "      dtype='object')"
      ]
     },
     "execution_count": 30,
     "metadata": {},
     "output_type": "execute_result"
    }
   ],
   "source": [
    "numeric = train.corr().columns\n",
    "numeric"
   ]
  },
  {
   "cell_type": "code",
   "execution_count": 31,
   "metadata": {},
   "outputs": [
    {
     "name": "stderr",
     "output_type": "stream",
     "text": [
      "/Users/zengweihao/anaconda3/lib/python3.6/site-packages/ipykernel_launcher.py:3: SettingWithCopyWarning: \n",
      "A value is trying to be set on a copy of a slice from a DataFrame.\n",
      "Try using .loc[row_indexer,col_indexer] = value instead\n",
      "\n",
      "See the caveats in the documentation: http://pandas.pydata.org/pandas-docs/stable/indexing.html#indexing-view-versus-copy\n",
      "  This is separate from the ipykernel package so we can avoid doing imports until\n",
      "/Users/zengweihao/anaconda3/lib/python3.6/site-packages/ipykernel_launcher.py:4: SettingWithCopyWarning: \n",
      "A value is trying to be set on a copy of a slice from a DataFrame.\n",
      "Try using .loc[row_indexer,col_indexer] = value instead\n",
      "\n",
      "See the caveats in the documentation: http://pandas.pydata.org/pandas-docs/stable/indexing.html#indexing-view-versus-copy\n",
      "  after removing the cwd from sys.path.\n"
     ]
    }
   ],
   "source": [
    "for col_name in list(set(numeric)-set([\"saleprice\"])):\n",
    "    new_col_name = col_name + '_std'\n",
    "    train[col_name] = np.log1p(train[col_name])# seems it would improve the result a little bit\n",
    "    train[new_col_name] =(train[col_name] - train[col_name].mean())/train[col_name].std()"
   ]
  },
  {
   "cell_type": "code",
   "execution_count": 32,
   "metadata": {
    "collapsed": true
   },
   "outputs": [],
   "source": [
    "train = train.drop(list(set(numeric)-set([\"saleprice\"])), axis =1)"
   ]
  },
  {
   "cell_type": "code",
   "execution_count": 33,
   "metadata": {
    "collapsed": true
   },
   "outputs": [],
   "source": [
    "for col_name in list(set(numeric)-set([\"saleprice\"])):\n",
    "    test[col_name] = np.log1p(test[col_name])\n",
    "    new_col_name = col_name + '_std'\n",
    "    test[new_col_name] = (test[col_name] - test[col_name].mean())/test[col_name].std()"
   ]
  },
  {
   "cell_type": "code",
   "execution_count": 34,
   "metadata": {
    "collapsed": true
   },
   "outputs": [],
   "source": [
    "test = test.drop(list(set(numeric)-set([\"saleprice\"])), axis =1)"
   ]
  },
  {
   "cell_type": "code",
   "execution_count": 35,
   "metadata": {},
   "outputs": [
    {
     "name": "stderr",
     "output_type": "stream",
     "text": [
      "/Users/zengweihao/anaconda3/lib/python3.6/site-packages/ipykernel_launcher.py:2: SettingWithCopyWarning: \n",
      "A value is trying to be set on a copy of a slice from a DataFrame.\n",
      "Try using .loc[row_indexer,col_indexer] = value instead\n",
      "\n",
      "See the caveats in the documentation: http://pandas.pydata.org/pandas-docs/stable/indexing.html#indexing-view-versus-copy\n",
      "  \n",
      "/Users/zengweihao/anaconda3/lib/python3.6/site-packages/ipykernel_launcher.py:4: SettingWithCopyWarning: \n",
      "A value is trying to be set on a copy of a slice from a DataFrame.\n",
      "Try using .loc[row_indexer,col_indexer] = value instead\n",
      "\n",
      "See the caveats in the documentation: http://pandas.pydata.org/pandas-docs/stable/indexing.html#indexing-view-versus-copy\n",
      "  after removing the cwd from sys.path.\n",
      "/Users/zengweihao/anaconda3/lib/python3.6/site-packages/ipykernel_launcher.py:2: RuntimeWarning: invalid value encountered in log1p\n",
      "  \n"
     ]
    }
   ],
   "source": [
    "for col_name in list(set(numeric)-set([\"saleprice\"])):\n",
    "    valid[col_name] = np.log1p(valid[col_name])\n",
    "    new_col_name = col_name + '_std'\n",
    "    valid[new_col_name] = (valid[col_name] - valid[col_name].mean())/valid[col_name].std()"
   ]
  },
  {
   "cell_type": "code",
   "execution_count": 36,
   "metadata": {
    "collapsed": true
   },
   "outputs": [],
   "source": [
    "valid= valid.drop(list(set(numeric)-set([\"saleprice\"])), axis=1)"
   ]
  },
  {
   "cell_type": "markdown",
   "metadata": {},
   "source": [
    "Also, the dependent variable is right skewed, so we are going to transfer it to make it more normally distributed"
   ]
  },
  {
   "cell_type": "code",
   "execution_count": 37,
   "metadata": {
    "collapsed": true
   },
   "outputs": [],
   "source": [
    "train[\"saleprice\"] = np.log1p(train[\"saleprice\"])"
   ]
  },
  {
   "cell_type": "code",
   "execution_count": 38,
   "metadata": {
    "collapsed": true
   },
   "outputs": [],
   "source": [
    "valid[\"saleprice\"] = np.log1p(valid[\"saleprice\"])"
   ]
  },
  {
   "cell_type": "code",
   "execution_count": null,
   "metadata": {
    "collapsed": true
   },
   "outputs": [],
   "source": []
  },
  {
   "cell_type": "markdown",
   "metadata": {},
   "source": [
    "# 4. Fit the model"
   ]
  },
  {
   "cell_type": "markdown",
   "metadata": {},
   "source": [
    "we use three method here, the first one would be the gbm model.(In most of our trial, this is the better model than the random forest, penalized linear regression and neural network.)"
   ]
  },
  {
   "cell_type": "code",
   "execution_count": 39,
   "metadata": {
    "collapsed": true
   },
   "outputs": [],
   "source": [
    "y = 'saleprice'\n",
    "X = [name for name in train.columns if name not in ['Id',y]]"
   ]
  },
  {
   "cell_type": "code",
   "execution_count": 40,
   "metadata": {
    "collapsed": true
   },
   "outputs": [],
   "source": [
    "import h2o\n",
    "from h2o.estimators.glm import H2OGeneralizedLinearEstimator"
   ]
  },
  {
   "cell_type": "code",
   "execution_count": 41,
   "metadata": {},
   "outputs": [
    {
     "name": "stdout",
     "output_type": "stream",
     "text": [
      "Checking whether there is an H2O instance running at http://localhost:54321..... not found.\n",
      "Attempting to start a local H2O server...\n",
      "  Java Version: java version \"1.8.0_161\"; Java(TM) SE Runtime Environment (build 1.8.0_161-b12); Java HotSpot(TM) 64-Bit Server VM (build 25.161-b12, mixed mode)\n",
      "  Starting server from /Users/zengweihao/anaconda3/lib/python3.6/site-packages/h2o/backend/bin/h2o.jar\n",
      "  Ice root: /var/folders/m7/1trmx2qs6vggd9ygt9nd4dpr0000gn/T/tmp3zhvb6aq\n",
      "  JVM stdout: /var/folders/m7/1trmx2qs6vggd9ygt9nd4dpr0000gn/T/tmp3zhvb6aq/h2o_zengweihao_started_from_python.out\n",
      "  JVM stderr: /var/folders/m7/1trmx2qs6vggd9ygt9nd4dpr0000gn/T/tmp3zhvb6aq/h2o_zengweihao_started_from_python.err\n",
      "  Server is running at http://127.0.0.1:54321\n",
      "Connecting to H2O server at http://127.0.0.1:54321... successful.\n"
     ]
    },
    {
     "data": {
      "text/html": [
       "<div style=\"overflow:auto\"><table style=\"width:50%\"><tr><td>H2O cluster uptime:</td>\n",
       "<td>02 secs</td></tr>\n",
       "<tr><td>H2O cluster timezone:</td>\n",
       "<td>America/New_York</td></tr>\n",
       "<tr><td>H2O data parsing timezone:</td>\n",
       "<td>UTC</td></tr>\n",
       "<tr><td>H2O cluster version:</td>\n",
       "<td>3.18.0.3</td></tr>\n",
       "<tr><td>H2O cluster version age:</td>\n",
       "<td>1 month and 16 days </td></tr>\n",
       "<tr><td>H2O cluster name:</td>\n",
       "<td>H2O_from_python_zengweihao_qxurmr</td></tr>\n",
       "<tr><td>H2O cluster total nodes:</td>\n",
       "<td>1</td></tr>\n",
       "<tr><td>H2O cluster free memory:</td>\n",
       "<td>1.778 Gb</td></tr>\n",
       "<tr><td>H2O cluster total cores:</td>\n",
       "<td>4</td></tr>\n",
       "<tr><td>H2O cluster allowed cores:</td>\n",
       "<td>4</td></tr>\n",
       "<tr><td>H2O cluster status:</td>\n",
       "<td>accepting new members, healthy</td></tr>\n",
       "<tr><td>H2O connection url:</td>\n",
       "<td>http://127.0.0.1:54321</td></tr>\n",
       "<tr><td>H2O connection proxy:</td>\n",
       "<td>None</td></tr>\n",
       "<tr><td>H2O internal security:</td>\n",
       "<td>False</td></tr>\n",
       "<tr><td>H2O API Extensions:</td>\n",
       "<td>XGBoost, Algos, AutoML, Core V3, Core V4</td></tr>\n",
       "<tr><td>Python version:</td>\n",
       "<td>3.6.3 final</td></tr></table></div>"
      ],
      "text/plain": [
       "--------------------------  ----------------------------------------\n",
       "H2O cluster uptime:         02 secs\n",
       "H2O cluster timezone:       America/New_York\n",
       "H2O data parsing timezone:  UTC\n",
       "H2O cluster version:        3.18.0.3\n",
       "H2O cluster version age:    1 month and 16 days\n",
       "H2O cluster name:           H2O_from_python_zengweihao_qxurmr\n",
       "H2O cluster total nodes:    1\n",
       "H2O cluster free memory:    1.778 Gb\n",
       "H2O cluster total cores:    4\n",
       "H2O cluster allowed cores:  4\n",
       "H2O cluster status:         accepting new members, healthy\n",
       "H2O connection url:         http://127.0.0.1:54321\n",
       "H2O connection proxy:\n",
       "H2O internal security:      False\n",
       "H2O API Extensions:         XGBoost, Algos, AutoML, Core V3, Core V4\n",
       "Python version:             3.6.3 final\n",
       "--------------------------  ----------------------------------------"
      ]
     },
     "metadata": {},
     "output_type": "display_data"
    }
   ],
   "source": [
    "h2o.init()"
   ]
  },
  {
   "cell_type": "code",
   "execution_count": 42,
   "metadata": {},
   "outputs": [
    {
     "name": "stdout",
     "output_type": "stream",
     "text": [
      "Parse progress: |█████████████████████████████████████████████████████████| 100%\n"
     ]
    }
   ],
   "source": [
    "trainhf = h2o.H2OFrame(train)"
   ]
  },
  {
   "cell_type": "code",
   "execution_count": 43,
   "metadata": {},
   "outputs": [
    {
     "name": "stdout",
     "output_type": "stream",
     "text": [
      "Parse progress: |█████████████████████████████████████████████████████████| 100%\n"
     ]
    }
   ],
   "source": [
    "validationhf = h2o.H2OFrame(valid)"
   ]
  },
  {
   "cell_type": "code",
   "execution_count": 44,
   "metadata": {},
   "outputs": [
    {
     "name": "stdout",
     "output_type": "stream",
     "text": [
      "Parse progress: |█████████████████████████████████████████████████████████| 100%\n"
     ]
    }
   ],
   "source": [
    "testhf = h2o.H2OFrame(test)"
   ]
  },
  {
   "cell_type": "code",
   "execution_count": null,
   "metadata": {
    "collapsed": true
   },
   "outputs": [],
   "source": []
  },
  {
   "cell_type": "code",
   "execution_count": null,
   "metadata": {
    "collapsed": true
   },
   "outputs": [],
   "source": []
  },
  {
   "cell_type": "code",
   "execution_count": 45,
   "metadata": {},
   "outputs": [
    {
     "name": "stdout",
     "output_type": "stream",
     "text": [
      "gbm Grid Build progress: |████████████████████████████████████████████████| 100%\n",
      "Errors/Warnings building gridsearch model\n",
      "\n",
      "Hyper-parameter: col_sample_rate, 0.9\n",
      "Hyper-parameter: max_depth, 0\n",
      "Hyper-parameter: ntrees, 400\n",
      "Hyper-parameter: sample_rate, 0.7\n",
      "failure_details: Illegal argument(s) for GBM model: Grid_GBM_Key_Frame__upload_8041e88d9dae1d575d56acd5f3a74fdb.hex_model_python_1524171635404_1_model_0.  Details: ERRR on field: _max_depth: _max_depth must be > 0.\n",
      "\n",
      "failure_stack_traces: water.exceptions.H2OModelBuilderIllegalArgumentException: Illegal argument(s) for GBM model: Grid_GBM_Key_Frame__upload_8041e88d9dae1d575d56acd5f3a74fdb.hex_model_python_1524171635404_1_model_0.  Details: ERRR on field: _max_depth: _max_depth must be > 0.\n",
      "\n",
      "\tat water.exceptions.H2OModelBuilderIllegalArgumentException.makeFromBuilder(H2OModelBuilderIllegalArgumentException.java:20)\n",
      "\tat hex.tree.gbm.GBM.init(GBM.java:84)\n",
      "\tat hex.tree.SharedTree$Driver.computeImpl(SharedTree.java:202)\n",
      "\tat hex.ModelBuilder$Driver.compute2(ModelBuilder.java:206)\n",
      "\tat hex.ModelBuilder.trainModelNested(ModelBuilder.java:262)\n",
      "\tat hex.grid.GridSearch.startBuildModel(GridSearch.java:340)\n",
      "\tat hex.grid.GridSearch.buildModel(GridSearch.java:322)\n",
      "\tat hex.grid.GridSearch.gridSearch(GridSearch.java:214)\n",
      "\tat hex.grid.GridSearch.access$000(GridSearch.java:69)\n",
      "\tat hex.grid.GridSearch$1.compute2(GridSearch.java:136)\n",
      "\tat water.H2O$H2OCountedCompleter.compute(H2O.java:1263)\n",
      "\tat jsr166y.CountedCompleter.exec(CountedCompleter.java:468)\n",
      "\tat jsr166y.ForkJoinTask.doExec(ForkJoinTask.java:263)\n",
      "\tat jsr166y.ForkJoinPool$WorkQueue.runTask(ForkJoinPool.java:974)\n",
      "\tat jsr166y.ForkJoinPool.runWorker(ForkJoinPool.java:1477)\n",
      "\tat jsr166y.ForkJoinWorkerThread.run(ForkJoinWorkerThread.java:104)\n",
      "\n",
      "\n",
      "Hyper-parameter: col_sample_rate, 0.2\n",
      "Hyper-parameter: max_depth, 0\n",
      "Hyper-parameter: ntrees, 200\n",
      "Hyper-parameter: sample_rate, 0.5\n",
      "failure_details: Illegal argument(s) for GBM model: Grid_GBM_Key_Frame__upload_8041e88d9dae1d575d56acd5f3a74fdb.hex_model_python_1524171635404_1_model_4.  Details: ERRR on field: _max_depth: _max_depth must be > 0.\n",
      "\n",
      "failure_stack_traces: water.exceptions.H2OModelBuilderIllegalArgumentException: Illegal argument(s) for GBM model: Grid_GBM_Key_Frame__upload_8041e88d9dae1d575d56acd5f3a74fdb.hex_model_python_1524171635404_1_model_4.  Details: ERRR on field: _max_depth: _max_depth must be > 0.\n",
      "\n",
      "\tat water.exceptions.H2OModelBuilderIllegalArgumentException.makeFromBuilder(H2OModelBuilderIllegalArgumentException.java:20)\n",
      "\tat hex.tree.gbm.GBM.init(GBM.java:84)\n",
      "\tat hex.tree.SharedTree$Driver.computeImpl(SharedTree.java:202)\n",
      "\tat hex.ModelBuilder$Driver.compute2(ModelBuilder.java:206)\n",
      "\tat hex.ModelBuilder.trainModelNested(ModelBuilder.java:262)\n",
      "\tat hex.grid.GridSearch.startBuildModel(GridSearch.java:340)\n",
      "\tat hex.grid.GridSearch.buildModel(GridSearch.java:322)\n",
      "\tat hex.grid.GridSearch.gridSearch(GridSearch.java:214)\n",
      "\tat hex.grid.GridSearch.access$000(GridSearch.java:69)\n",
      "\tat hex.grid.GridSearch$1.compute2(GridSearch.java:136)\n",
      "\tat water.H2O$H2OCountedCompleter.compute(H2O.java:1263)\n",
      "\tat jsr166y.CountedCompleter.exec(CountedCompleter.java:468)\n",
      "\tat jsr166y.ForkJoinTask.doExec(ForkJoinTask.java:263)\n",
      "\tat jsr166y.ForkJoinPool$WorkQueue.runTask(ForkJoinPool.java:974)\n",
      "\tat jsr166y.ForkJoinPool.runWorker(ForkJoinPool.java:1477)\n",
      "\tat jsr166y.ForkJoinWorkerThread.run(ForkJoinWorkerThread.java:104)\n",
      "\n",
      "\n",
      "Hyper-parameter: col_sample_rate, 0.1\n",
      "Hyper-parameter: max_depth, 0\n",
      "Hyper-parameter: ntrees, 0\n",
      "Hyper-parameter: sample_rate, 0.8\n",
      "failure_details: Illegal argument(s) for GBM model: Grid_GBM_Key_Frame__upload_8041e88d9dae1d575d56acd5f3a74fdb.hex_model_python_1524171635404_1_model_6.  Details: ERRR on field: _max_depth: _max_depth must be > 0.\n",
      "\n",
      "failure_stack_traces: water.exceptions.H2OModelBuilderIllegalArgumentException: Illegal argument(s) for GBM model: Grid_GBM_Key_Frame__upload_8041e88d9dae1d575d56acd5f3a74fdb.hex_model_python_1524171635404_1_model_6.  Details: ERRR on field: _max_depth: _max_depth must be > 0.\n",
      "\n",
      "\tat water.exceptions.H2OModelBuilderIllegalArgumentException.makeFromBuilder(H2OModelBuilderIllegalArgumentException.java:20)\n",
      "\tat hex.tree.gbm.GBM.init(GBM.java:84)\n",
      "\tat hex.tree.SharedTree$Driver.computeImpl(SharedTree.java:202)\n",
      "\tat hex.ModelBuilder$Driver.compute2(ModelBuilder.java:206)\n",
      "\tat hex.ModelBuilder.trainModelNested(ModelBuilder.java:262)\n",
      "\tat hex.grid.GridSearch.startBuildModel(GridSearch.java:340)\n",
      "\tat hex.grid.GridSearch.buildModel(GridSearch.java:322)\n",
      "\tat hex.grid.GridSearch.gridSearch(GridSearch.java:214)\n",
      "\tat hex.grid.GridSearch.access$000(GridSearch.java:69)\n",
      "\tat hex.grid.GridSearch$1.compute2(GridSearch.java:136)\n",
      "\tat water.H2O$H2OCountedCompleter.compute(H2O.java:1263)\n",
      "\tat jsr166y.CountedCompleter.exec(CountedCompleter.java:468)\n",
      "\tat jsr166y.ForkJoinTask.doExec(ForkJoinTask.java:263)\n",
      "\tat jsr166y.ForkJoinPool$WorkQueue.runTask(ForkJoinPool.java:974)\n",
      "\tat jsr166y.ForkJoinPool.runWorker(ForkJoinPool.java:1477)\n",
      "\tat jsr166y.ForkJoinWorkerThread.run(ForkJoinWorkerThread.java:104)\n",
      "\n",
      "\n",
      "Hyper-parameter: col_sample_rate, 0.3\n",
      "Hyper-parameter: max_depth, 0\n",
      "Hyper-parameter: ntrees, 200\n",
      "Hyper-parameter: sample_rate, 0.4\n",
      "failure_details: Illegal argument(s) for GBM model: Grid_GBM_Key_Frame__upload_8041e88d9dae1d575d56acd5f3a74fdb.hex_model_python_1524171635404_1_model_22.  Details: ERRR on field: _max_depth: _max_depth must be > 0.\n",
      "\n",
      "failure_stack_traces: water.exceptions.H2OModelBuilderIllegalArgumentException: Illegal argument(s) for GBM model: Grid_GBM_Key_Frame__upload_8041e88d9dae1d575d56acd5f3a74fdb.hex_model_python_1524171635404_1_model_22.  Details: ERRR on field: _max_depth: _max_depth must be > 0.\n",
      "\n",
      "\tat water.exceptions.H2OModelBuilderIllegalArgumentException.makeFromBuilder(H2OModelBuilderIllegalArgumentException.java:20)\n",
      "\tat hex.tree.gbm.GBM.init(GBM.java:84)\n",
      "\tat hex.tree.SharedTree$Driver.computeImpl(SharedTree.java:202)\n",
      "\tat hex.ModelBuilder$Driver.compute2(ModelBuilder.java:206)\n",
      "\tat hex.ModelBuilder.trainModelNested(ModelBuilder.java:262)\n",
      "\tat hex.grid.GridSearch.startBuildModel(GridSearch.java:340)\n",
      "\tat hex.grid.GridSearch.buildModel(GridSearch.java:322)\n",
      "\tat hex.grid.GridSearch.gridSearch(GridSearch.java:214)\n",
      "\tat hex.grid.GridSearch.access$000(GridSearch.java:69)\n",
      "\tat hex.grid.GridSearch$1.compute2(GridSearch.java:136)\n",
      "\tat water.H2O$H2OCountedCompleter.compute(H2O.java:1263)\n",
      "\tat jsr166y.CountedCompleter.exec(CountedCompleter.java:468)\n",
      "\tat jsr166y.ForkJoinTask.doExec(ForkJoinTask.java:263)\n",
      "\tat jsr166y.ForkJoinPool$WorkQueue.runTask(ForkJoinPool.java:974)\n",
      "\tat jsr166y.ForkJoinPool.runWorker(ForkJoinPool.java:1477)\n",
      "\tat jsr166y.ForkJoinWorkerThread.run(ForkJoinWorkerThread.java:104)\n",
      "\n",
      "\n"
     ]
    }
   ],
   "source": [
    "from h2o.grid.grid_search import H2OGridSearch\n",
    "from h2o.estimators.gbm import H2OGradientBoostingEstimator \n",
    "from h2o.estimators.random_forest import H2ORandomForestEstimator\n",
    "hyper_parameters = {'ntrees':list(range(0, 600, 100)),\n",
    "                    'max_depth':list(range(0, 30, 3)),\n",
    "                    'sample_rate':[s/float(10) for s in range(1, 11)],\n",
    "                    'col_sample_rate':[s/float(10) for s in range(1, 11)]}\n",
    "\n",
    "# define search strategy\n",
    "search_criteria = {'strategy':'RandomDiscrete',\n",
    "                   'max_models':30,\n",
    "                   'max_runtime_secs':3000}\n",
    "\n",
    "# initialize grid search\n",
    "gsearch = H2OGridSearch(H2OGradientBoostingEstimator,\n",
    "                        hyper_params=hyper_parameters,\n",
    "                        search_criteria=search_criteria)\n",
    "gsearch.train(x=X,\n",
    "              y=y,\n",
    "              training_frame=trainhf,\n",
    "              validation_frame=validationhf)"
   ]
  },
  {
   "cell_type": "code",
   "execution_count": 46,
   "metadata": {},
   "outputs": [
    {
     "name": "stdout",
     "output_type": "stream",
     "text": [
      "     col_sample_rate max_depth ntrees sample_rate  \\\n",
      "0                0.1         9    400         0.8   \n",
      "1                0.5         3    100         0.8   \n",
      "2                0.5         6    100         0.4   \n",
      "3                0.2         6    200         1.0   \n",
      "4                0.4        12    300         0.5   \n",
      "5                0.9        15    100         0.5   \n",
      "6                0.5         6    100         0.6   \n",
      "7                0.2        24    100         0.2   \n",
      "8                0.4         3    100         0.4   \n",
      "9                0.8         6    400         0.5   \n",
      "10               0.8        24    200         0.7   \n",
      "11               0.1         9    100         0.5   \n",
      "12               0.5        18    400         0.3   \n",
      "13               0.7        18    200         0.3   \n",
      "14               0.4        24    100         0.4   \n",
      "15               0.5        27    200         0.6   \n",
      "16               0.2         3    100         0.5   \n",
      "17               0.1         9    300         0.1   \n",
      "18               0.5        27    300         0.3   \n",
      "19               0.5        18    500         0.3   \n",
      "20               0.6         9    200         0.1   \n",
      "21               0.2        18      0         1.0   \n",
      "22               1.0        21      0         0.2   \n",
      "23               0.6         9      0         0.3   \n",
      "24               0.8        15      0         0.3   \n",
      "25               0.4        27      0         0.1   \n",
      "\n",
      "                                                                model_ids  \\\n",
      "0   Grid_GBM_Key_Frame__upload_8041e88d9dae1d575d56acd5f3a74fdb.hex_mo...   \n",
      "1   Grid_GBM_Key_Frame__upload_8041e88d9dae1d575d56acd5f3a74fdb.hex_mo...   \n",
      "2   Grid_GBM_Key_Frame__upload_8041e88d9dae1d575d56acd5f3a74fdb.hex_mo...   \n",
      "3   Grid_GBM_Key_Frame__upload_8041e88d9dae1d575d56acd5f3a74fdb.hex_mo...   \n",
      "4   Grid_GBM_Key_Frame__upload_8041e88d9dae1d575d56acd5f3a74fdb.hex_mo...   \n",
      "5   Grid_GBM_Key_Frame__upload_8041e88d9dae1d575d56acd5f3a74fdb.hex_mo...   \n",
      "6   Grid_GBM_Key_Frame__upload_8041e88d9dae1d575d56acd5f3a74fdb.hex_mo...   \n",
      "7   Grid_GBM_Key_Frame__upload_8041e88d9dae1d575d56acd5f3a74fdb.hex_mo...   \n",
      "8   Grid_GBM_Key_Frame__upload_8041e88d9dae1d575d56acd5f3a74fdb.hex_mo...   \n",
      "9   Grid_GBM_Key_Frame__upload_8041e88d9dae1d575d56acd5f3a74fdb.hex_mo...   \n",
      "10  Grid_GBM_Key_Frame__upload_8041e88d9dae1d575d56acd5f3a74fdb.hex_mo...   \n",
      "11  Grid_GBM_Key_Frame__upload_8041e88d9dae1d575d56acd5f3a74fdb.hex_mo...   \n",
      "12  Grid_GBM_Key_Frame__upload_8041e88d9dae1d575d56acd5f3a74fdb.hex_mo...   \n",
      "13  Grid_GBM_Key_Frame__upload_8041e88d9dae1d575d56acd5f3a74fdb.hex_mo...   \n",
      "14  Grid_GBM_Key_Frame__upload_8041e88d9dae1d575d56acd5f3a74fdb.hex_mo...   \n",
      "15  Grid_GBM_Key_Frame__upload_8041e88d9dae1d575d56acd5f3a74fdb.hex_mo...   \n",
      "16  Grid_GBM_Key_Frame__upload_8041e88d9dae1d575d56acd5f3a74fdb.hex_mo...   \n",
      "17  Grid_GBM_Key_Frame__upload_8041e88d9dae1d575d56acd5f3a74fdb.hex_mo...   \n",
      "18  Grid_GBM_Key_Frame__upload_8041e88d9dae1d575d56acd5f3a74fdb.hex_mo...   \n",
      "19  Grid_GBM_Key_Frame__upload_8041e88d9dae1d575d56acd5f3a74fdb.hex_mo...   \n",
      "20  Grid_GBM_Key_Frame__upload_8041e88d9dae1d575d56acd5f3a74fdb.hex_mo...   \n",
      "21  Grid_GBM_Key_Frame__upload_8041e88d9dae1d575d56acd5f3a74fdb.hex_mo...   \n",
      "22  Grid_GBM_Key_Frame__upload_8041e88d9dae1d575d56acd5f3a74fdb.hex_mo...   \n",
      "23  Grid_GBM_Key_Frame__upload_8041e88d9dae1d575d56acd5f3a74fdb.hex_mo...   \n",
      "24  Grid_GBM_Key_Frame__upload_8041e88d9dae1d575d56acd5f3a74fdb.hex_mo...   \n",
      "25  Grid_GBM_Key_Frame__upload_8041e88d9dae1d575d56acd5f3a74fdb.hex_mo...   \n",
      "\n",
      "       residual_deviance  \n",
      "0   0.013963421590774324  \n",
      "1   0.013979158295260374  \n",
      "2   0.014084603120929585  \n",
      "3    0.01410729419941365  \n",
      "4   0.014218200353930116  \n",
      "5   0.014498457024085913  \n",
      "6   0.014514122699271539  \n",
      "7   0.014668809933825992  \n",
      "8   0.014783476876710862  \n",
      "9   0.014844120219411535  \n",
      "10  0.014949367108373756  \n",
      "11   0.01518665599472326  \n",
      "12  0.015270704049185041  \n",
      "13  0.015402861137025114  \n",
      "14  0.015507219213390017  \n",
      "15  0.015515722159433067  \n",
      "16   0.01553416417983023  \n",
      "17   0.01576663470783058  \n",
      "18  0.015954234178106326  \n",
      "19   0.01683637995852192  \n",
      "20   0.01734777234301014  \n",
      "21   0.15870660929944988  \n",
      "22   0.15870660929944988  \n",
      "23   0.15870660929944988  \n",
      "24   0.15870660929944988  \n",
      "25   0.15870660929944988  \n",
      "Model Details\n",
      "=============\n",
      "H2OGradientBoostingEstimator :  Gradient Boosting Machine\n",
      "Model Key:  Grid_GBM_Key_Frame__upload_8041e88d9dae1d575d56acd5f3a74fdb.hex_model_python_1524171635404_1_model_9\n",
      "\n",
      "\n",
      "ModelMetricsRegression: gbm\n",
      "** Reported on train data. **\n",
      "\n",
      "MSE: 8.811594177707715e-05\n",
      "RMSE: 0.0093870092029931\n",
      "MAE: 0.006060567564661671\n",
      "RMSLE: 0.0007262551048077203\n",
      "Mean Residual Deviance: 8.811594177707715e-05\n",
      "\n",
      "ModelMetricsRegression: gbm\n",
      "** Reported on validation data. **\n",
      "\n",
      "MSE: 0.013963421590774324\n",
      "RMSE: 0.11816692257469653\n",
      "MAE: 0.08373039775762711\n",
      "RMSLE: 0.009207226215065069\n",
      "Mean Residual Deviance: 0.013963421590774324\n",
      "Scoring History: \n"
     ]
    },
    {
     "data": {
      "text/html": [
       "<div style=\"overflow:auto\"><table style=\"width:50%\"><tr><td><b></b></td>\n",
       "<td><b>timestamp</b></td>\n",
       "<td><b>duration</b></td>\n",
       "<td><b>number_of_trees</b></td>\n",
       "<td><b>training_rmse</b></td>\n",
       "<td><b>training_mae</b></td>\n",
       "<td><b>training_deviance</b></td>\n",
       "<td><b>validation_rmse</b></td>\n",
       "<td><b>validation_mae</b></td>\n",
       "<td><b>validation_deviance</b></td></tr>\n",
       "<tr><td></td>\n",
       "<td>2018-04-19 17:00:53</td>\n",
       "<td>12.859 sec</td>\n",
       "<td>0.0</td>\n",
       "<td>0.3998853</td>\n",
       "<td>0.3107750</td>\n",
       "<td>0.1599082</td>\n",
       "<td>0.3983800</td>\n",
       "<td>0.3081362</td>\n",
       "<td>0.1587066</td></tr>\n",
       "<tr><td></td>\n",
       "<td>2018-04-19 17:00:53</td>\n",
       "<td>12.872 sec</td>\n",
       "<td>1.0</td>\n",
       "<td>0.3682001</td>\n",
       "<td>0.2843771</td>\n",
       "<td>0.1355713</td>\n",
       "<td>0.3657131</td>\n",
       "<td>0.2811664</td>\n",
       "<td>0.1337461</td></tr>\n",
       "<tr><td></td>\n",
       "<td>2018-04-19 17:00:53</td>\n",
       "<td>12.878 sec</td>\n",
       "<td>2.0</td>\n",
       "<td>0.3387769</td>\n",
       "<td>0.2600805</td>\n",
       "<td>0.1147698</td>\n",
       "<td>0.3363661</td>\n",
       "<td>0.2559384</td>\n",
       "<td>0.1131421</td></tr>\n",
       "<tr><td></td>\n",
       "<td>2018-04-19 17:00:53</td>\n",
       "<td>12.884 sec</td>\n",
       "<td>3.0</td>\n",
       "<td>0.3121815</td>\n",
       "<td>0.2381453</td>\n",
       "<td>0.0974573</td>\n",
       "<td>0.3122970</td>\n",
       "<td>0.2347771</td>\n",
       "<td>0.0975294</td></tr>\n",
       "<tr><td></td>\n",
       "<td>2018-04-19 17:00:53</td>\n",
       "<td>12.888 sec</td>\n",
       "<td>4.0</td>\n",
       "<td>0.2904894</td>\n",
       "<td>0.2196568</td>\n",
       "<td>0.0843841</td>\n",
       "<td>0.2914361</td>\n",
       "<td>0.2169930</td>\n",
       "<td>0.0849350</td></tr>\n",
       "<tr><td>---</td>\n",
       "<td>---</td>\n",
       "<td>---</td>\n",
       "<td>---</td>\n",
       "<td>---</td>\n",
       "<td>---</td>\n",
       "<td>---</td>\n",
       "<td>---</td>\n",
       "<td>---</td>\n",
       "<td>---</td></tr>\n",
       "<tr><td></td>\n",
       "<td>2018-04-19 17:00:55</td>\n",
       "<td>15.286 sec</td>\n",
       "<td>396.0</td>\n",
       "<td>0.0095308</td>\n",
       "<td>0.0061450</td>\n",
       "<td>0.0000908</td>\n",
       "<td>0.1181708</td>\n",
       "<td>0.0837107</td>\n",
       "<td>0.0139643</td></tr>\n",
       "<tr><td></td>\n",
       "<td>2018-04-19 17:00:55</td>\n",
       "<td>15.298 sec</td>\n",
       "<td>397.0</td>\n",
       "<td>0.0095080</td>\n",
       "<td>0.0061360</td>\n",
       "<td>0.0000904</td>\n",
       "<td>0.1181821</td>\n",
       "<td>0.0837204</td>\n",
       "<td>0.0139670</td></tr>\n",
       "<tr><td></td>\n",
       "<td>2018-04-19 17:00:55</td>\n",
       "<td>15.306 sec</td>\n",
       "<td>398.0</td>\n",
       "<td>0.0094692</td>\n",
       "<td>0.0061029</td>\n",
       "<td>0.0000897</td>\n",
       "<td>0.1181744</td>\n",
       "<td>0.0837272</td>\n",
       "<td>0.0139652</td></tr>\n",
       "<tr><td></td>\n",
       "<td>2018-04-19 17:00:55</td>\n",
       "<td>15.312 sec</td>\n",
       "<td>399.0</td>\n",
       "<td>0.0094231</td>\n",
       "<td>0.0060709</td>\n",
       "<td>0.0000888</td>\n",
       "<td>0.1181992</td>\n",
       "<td>0.0837398</td>\n",
       "<td>0.0139711</td></tr>\n",
       "<tr><td></td>\n",
       "<td>2018-04-19 17:00:55</td>\n",
       "<td>15.319 sec</td>\n",
       "<td>400.0</td>\n",
       "<td>0.0093870</td>\n",
       "<td>0.0060606</td>\n",
       "<td>0.0000881</td>\n",
       "<td>0.1181669</td>\n",
       "<td>0.0837304</td>\n",
       "<td>0.0139634</td></tr></table></div>"
      ],
      "text/plain": [
       "     timestamp            duration    number_of_trees    training_rmse         training_mae           training_deviance      validation_rmse      validation_mae       validation_deviance\n",
       "---  -------------------  ----------  -----------------  --------------------  ---------------------  ---------------------  -------------------  -------------------  ---------------------\n",
       "     2018-04-19 17:00:53  12.859 sec  0.0                0.3998852720035983    0.31077500115430134    0.15990823076539182    0.3983799810475545   0.30813621864288304  0.15870660929944988\n",
       "     2018-04-19 17:00:53  12.872 sec  1.0                0.36820006637506153   0.2843771136236436     0.1355712888785997     0.3657131083343993   0.2811664003000107   0.1337460776076081\n",
       "     2018-04-19 17:00:53  12.878 sec  2.0                0.33877688268300654   0.26008050764813434    0.11476977624041558    0.33636606253940543  0.25593844507890895  0.1131421280282632\n",
       "     2018-04-19 17:00:53  12.884 sec  3.0                0.31218145060248176   0.23814528352400452    0.09745725810026977    0.31229696895157705  0.23477711227242723  0.09752939681634226\n",
       "     2018-04-19 17:00:53  12.888 sec  4.0                0.2904894058182129    0.21965676106474208    0.0843840948926184     0.29143605571050835  0.21699296551767894  0.08493497456809851\n",
       "---  ---                  ---         ---                ---                   ---                    ---                    ---                  ---                  ---\n",
       "     2018-04-19 17:00:55  15.286 sec  396.0              0.009530795979002867  0.006145016815813696   9.083607199337722e-05  0.11817077592032593  0.08371073628837306  0.013964332281611884\n",
       "     2018-04-19 17:00:55  15.298 sec  397.0              0.009508026425184174  0.006136038700057957   9.040256650200055e-05  0.1181820740139506   0.08372037509751186  0.013967002618238897\n",
       "     2018-04-19 17:00:55  15.306 sec  398.0              0.00946923961553919   0.0061028801147565625  8.966649889649679e-05  0.11817438092259076  0.08372722061825454  0.013965184306437584\n",
       "     2018-04-19 17:00:55  15.312 sec  399.0              0.009423085368315778  0.006070927935644448   8.879453785856692e-05  0.1181992459319198   0.08373982103906741  0.013971061738874458\n",
       "     2018-04-19 17:00:55  15.319 sec  400.0              0.0093870092029931    0.006060567564661671   8.811594177707715e-05  0.11816692257469653  0.08373039775762711  0.013963421590774324"
      ]
     },
     "metadata": {},
     "output_type": "display_data"
    },
    {
     "name": "stdout",
     "output_type": "stream",
     "text": [
      "\n",
      "See the whole table with table.as_data_frame()\n",
      "Variable Importances: \n"
     ]
    },
    {
     "data": {
      "text/html": [
       "<div style=\"overflow:auto\"><table style=\"width:50%\"><tr><td><b>variable</b></td>\n",
       "<td><b>relative_importance</b></td>\n",
       "<td><b>scaled_importance</b></td>\n",
       "<td><b>percentage</b></td></tr>\n",
       "<tr><td>OverallQual</td>\n",
       "<td>120.5311508</td>\n",
       "<td>1.0</td>\n",
       "<td>0.1352856</td></tr>\n",
       "<tr><td>TotalBsmtSF_std</td>\n",
       "<td>98.3122940</td>\n",
       "<td>0.8156588</td>\n",
       "<td>0.1103469</td></tr>\n",
       "<tr><td>KitchenQual</td>\n",
       "<td>95.8842468</td>\n",
       "<td>0.7955142</td>\n",
       "<td>0.1076216</td></tr>\n",
       "<tr><td>TotalLivingArea_std</td>\n",
       "<td>74.7175293</td>\n",
       "<td>0.6199022</td>\n",
       "<td>0.0838639</td></tr>\n",
       "<tr><td>YearBuilt</td>\n",
       "<td>58.2577286</td>\n",
       "<td>0.4833417</td>\n",
       "<td>0.0653892</td></tr>\n",
       "<tr><td>---</td>\n",
       "<td>---</td>\n",
       "<td>---</td>\n",
       "<td>---</td></tr>\n",
       "<tr><td>Heating</td>\n",
       "<td>0.1096768</td>\n",
       "<td>0.0009099</td>\n",
       "<td>0.0001231</td></tr>\n",
       "<tr><td>RoofMatl</td>\n",
       "<td>0.0404684</td>\n",
       "<td>0.0003358</td>\n",
       "<td>0.0000454</td></tr>\n",
       "<tr><td>Street</td>\n",
       "<td>0.0</td>\n",
       "<td>0.0</td>\n",
       "<td>0.0</td></tr>\n",
       "<tr><td>Utilities</td>\n",
       "<td>0.0</td>\n",
       "<td>0.0</td>\n",
       "<td>0.0</td></tr>\n",
       "<tr><td>Condition2</td>\n",
       "<td>0.0</td>\n",
       "<td>0.0</td>\n",
       "<td>0.0</td></tr></table></div>"
      ],
      "text/plain": [
       "variable             relative_importance    scaled_importance      percentage\n",
       "-------------------  ---------------------  ---------------------  ----------------------\n",
       "OverallQual          120.5311508178711      1.0                    0.13528562788235954\n",
       "TotalBsmtSF_std      98.31229400634766      0.8156588013907102     0.11034691308391502\n",
       "KitchenQual          95.88424682617188      0.7955142398918766     0.10762164343313052\n",
       "TotalLivingArea_std  74.717529296875        0.6199022309989981     0.08386386254637493\n",
       "YearBuilt            58.257728576660156     0.4833416770797339     0.06538918226544446\n",
       "---                  ---                    ---                    ---\n",
       "Heating              0.1096767708659172     0.0009099454383509917  0.00012310253996600278\n",
       "RoofMatl             0.04046842083334923    0.0003357507213591542  4.5422247151028314e-05\n",
       "Street               0.0                    0.0                    0.0\n",
       "Utilities            0.0                    0.0                    0.0\n",
       "Condition2           0.0                    0.0                    0.0"
      ]
     },
     "metadata": {},
     "output_type": "display_data"
    },
    {
     "name": "stdout",
     "output_type": "stream",
     "text": [
      "\n",
      "See the whole table with table.as_data_frame()\n"
     ]
    },
    {
     "data": {
      "text/plain": []
     },
     "execution_count": 46,
     "metadata": {},
     "output_type": "execute_result"
    }
   ],
   "source": [
    "\n",
    "# show grid search results\n",
    "gsearch.show()\n",
    "\n",
    "# select best model\n",
    "gbm_model = gsearch.get_grid()[0]\n",
    "\n",
    "# print model information\n",
    "gbm_model"
   ]
  },
  {
   "cell_type": "code",
   "execution_count": 47,
   "metadata": {},
   "outputs": [
    {
     "name": "stdout",
     "output_type": "stream",
     "text": [
      "gbm prediction progress: |████████████████████████████████████████████████| 100%\n"
     ]
    },
    {
     "name": "stderr",
     "output_type": "stream",
     "text": [
      "/Users/zengweihao/anaconda3/lib/python3.6/site-packages/h2o/job.py:69: UserWarning: Test/Validation dataset column 'Condition2' has levels not trained on: [PosA]\n",
      "  warnings.warn(w)\n"
     ]
    }
   ],
   "source": [
    "final = gbm_model.predict(testhf)"
   ]
  },
  {
   "cell_type": "code",
   "execution_count": 48,
   "metadata": {
    "collapsed": true
   },
   "outputs": [],
   "source": [
    "h2o.download_csv(final, \"kaggle1.csv\")"
   ]
  },
  {
   "cell_type": "code",
   "execution_count": null,
   "metadata": {
    "collapsed": true
   },
   "outputs": [],
   "source": []
  },
  {
   "cell_type": "markdown",
   "metadata": {},
   "source": [
    "The second model we use is neural network"
   ]
  },
  {
   "cell_type": "code",
   "execution_count": 49,
   "metadata": {
    "collapsed": true
   },
   "outputs": [],
   "source": [
    "import h2o \n",
    "from h2o.estimators.deeplearning import H2ODeepLearningEstimator\n",
    "from h2o.grid.grid_search import H2OGridSearch"
   ]
  },
  {
   "cell_type": "code",
   "execution_count": 50,
   "metadata": {
    "collapsed": true
   },
   "outputs": [],
   "source": [
    "%matplotlib inline"
   ]
  },
  {
   "cell_type": "code",
   "execution_count": 51,
   "metadata": {},
   "outputs": [
    {
     "name": "stdout",
     "output_type": "stream",
     "text": [
      "Checking whether there is an H2O instance running at http://localhost:54321. connected.\n"
     ]
    },
    {
     "data": {
      "text/html": [
       "<div style=\"overflow:auto\"><table style=\"width:50%\"><tr><td>H2O cluster uptime:</td>\n",
       "<td>44 secs</td></tr>\n",
       "<tr><td>H2O cluster timezone:</td>\n",
       "<td>America/New_York</td></tr>\n",
       "<tr><td>H2O data parsing timezone:</td>\n",
       "<td>UTC</td></tr>\n",
       "<tr><td>H2O cluster version:</td>\n",
       "<td>3.18.0.3</td></tr>\n",
       "<tr><td>H2O cluster version age:</td>\n",
       "<td>1 month and 16 days </td></tr>\n",
       "<tr><td>H2O cluster name:</td>\n",
       "<td>H2O_from_python_zengweihao_qxurmr</td></tr>\n",
       "<tr><td>H2O cluster total nodes:</td>\n",
       "<td>1</td></tr>\n",
       "<tr><td>H2O cluster free memory:</td>\n",
       "<td>1.750 Gb</td></tr>\n",
       "<tr><td>H2O cluster total cores:</td>\n",
       "<td>4</td></tr>\n",
       "<tr><td>H2O cluster allowed cores:</td>\n",
       "<td>4</td></tr>\n",
       "<tr><td>H2O cluster status:</td>\n",
       "<td>locked, healthy</td></tr>\n",
       "<tr><td>H2O connection url:</td>\n",
       "<td>http://localhost:54321</td></tr>\n",
       "<tr><td>H2O connection proxy:</td>\n",
       "<td>None</td></tr>\n",
       "<tr><td>H2O internal security:</td>\n",
       "<td>False</td></tr>\n",
       "<tr><td>H2O API Extensions:</td>\n",
       "<td>XGBoost, Algos, AutoML, Core V3, Core V4</td></tr>\n",
       "<tr><td>Python version:</td>\n",
       "<td>3.6.3 final</td></tr></table></div>"
      ],
      "text/plain": [
       "--------------------------  ----------------------------------------\n",
       "H2O cluster uptime:         44 secs\n",
       "H2O cluster timezone:       America/New_York\n",
       "H2O data parsing timezone:  UTC\n",
       "H2O cluster version:        3.18.0.3\n",
       "H2O cluster version age:    1 month and 16 days\n",
       "H2O cluster name:           H2O_from_python_zengweihao_qxurmr\n",
       "H2O cluster total nodes:    1\n",
       "H2O cluster free memory:    1.750 Gb\n",
       "H2O cluster total cores:    4\n",
       "H2O cluster allowed cores:  4\n",
       "H2O cluster status:         locked, healthy\n",
       "H2O connection url:         http://localhost:54321\n",
       "H2O connection proxy:\n",
       "H2O internal security:      False\n",
       "H2O API Extensions:         XGBoost, Algos, AutoML, Core V3, Core V4\n",
       "Python version:             3.6.3 final\n",
       "--------------------------  ----------------------------------------"
      ]
     },
     "metadata": {},
     "output_type": "display_data"
    }
   ],
   "source": [
    "h2o.init()"
   ]
  },
  {
   "cell_type": "code",
   "execution_count": 52,
   "metadata": {},
   "outputs": [
    {
     "name": "stdout",
     "output_type": "stream",
     "text": [
      "Parse progress: |█████████████████████████████████████████████████████████| 100%\n"
     ]
    }
   ],
   "source": [
    "train_nn = h2o.H2OFrame(train)"
   ]
  },
  {
   "cell_type": "code",
   "execution_count": 53,
   "metadata": {},
   "outputs": [
    {
     "name": "stdout",
     "output_type": "stream",
     "text": [
      "Parse progress: |█████████████████████████████████████████████████████████| 100%\n"
     ]
    }
   ],
   "source": [
    "test_nn = h2o.H2OFrame(test)"
   ]
  },
  {
   "cell_type": "code",
   "execution_count": 54,
   "metadata": {},
   "outputs": [
    {
     "name": "stdout",
     "output_type": "stream",
     "text": [
      "Parse progress: |█████████████████████████████████████████████████████████| 100%\n"
     ]
    }
   ],
   "source": [
    "validation_nn = h2o.H2OFrame(valid)"
   ]
  },
  {
   "cell_type": "code",
   "execution_count": 55,
   "metadata": {},
   "outputs": [
    {
     "name": "stdout",
     "output_type": "stream",
     "text": [
      "saleprice\n",
      "['MSSubClass', 'MSZoning', 'Street', 'LotShape', 'LandContour', 'Utilities', 'LotConfig', 'LandSlope', 'Neighborhood', 'Condition1', 'Condition2', 'BldgType', 'HouseStyle', 'OverallQual', 'OverallCond', 'YearBuilt', 'YearRemodAdd', 'RoofStyle', 'RoofMatl', 'Exterior1st', 'Exterior2nd', 'MasVnrType', 'ExterQual', 'ExterCond', 'Foundation', 'BsmtQual', 'BsmtCond', 'BsmtExposure', 'BsmtFinType1', 'BsmtFinType2', 'Heating', 'HeatingQC', 'CentralAir', 'Electrical', 'KitchenQual', 'Functional', 'GarageType', 'GarageYrBlt', 'GarageFinish', 'GarageQual', 'GarageCond', 'PavedDrive', 'MoSold', 'YrSold', 'SaleType', 'SaleCondition', '1stFlrSF_std', 'TotalLivingArea_std', 'TotalBsmtSF_std', 'FullBath_std', 'MasVnrArea_std', 'TotalBathRoom_std', 'Fireplaces_std', 'GarageCars_std', 'TotRmsAbvGrd_std', 'GarageArea_std', 'GrLivArea_std', 'BsmtFinSF1_std']\n"
     ]
    }
   ],
   "source": [
    "y = 'saleprice'\n",
    "X = [name for name in train_nn.columns if name not in ['Id', y]]\n",
    "print(y)\n",
    "print(X)"
   ]
  },
  {
   "cell_type": "code",
   "execution_count": 56,
   "metadata": {},
   "outputs": [
    {
     "name": "stdout",
     "output_type": "stream",
     "text": [
      "deeplearning Model Build progress: |██████████████████████████████████████| 100%\n",
      "Model Details\n",
      "=============\n",
      "H2ODeepLearningEstimator :  Deep Learning\n",
      "Model Key:  nn_model\n",
      "\n",
      "\n",
      "ModelMetricsRegression: deeplearning\n",
      "** Reported on train data. **\n",
      "\n",
      "MSE: 0.01322061028730909\n",
      "RMSE: 0.11498091270862781\n",
      "MAE: 0.08373475571527901\n",
      "RMSLE: 0.008922573317339519\n",
      "Mean Residual Deviance: 0.01322061028730909\n",
      "\n",
      "ModelMetricsRegression: deeplearning\n",
      "** Reported on validation data. **\n",
      "\n",
      "MSE: 0.015580815603038796\n",
      "RMSE: 0.12482313729048311\n",
      "MAE: 0.09323041370255084\n",
      "RMSLE: 0.009757344817907207\n",
      "Mean Residual Deviance: 0.015580815603038796\n",
      "Scoring History: \n"
     ]
    },
    {
     "data": {
      "text/html": [
       "<div style=\"overflow:auto\"><table style=\"width:50%\"><tr><td><b></b></td>\n",
       "<td><b>timestamp</b></td>\n",
       "<td><b>duration</b></td>\n",
       "<td><b>training_speed</b></td>\n",
       "<td><b>epochs</b></td>\n",
       "<td><b>iterations</b></td>\n",
       "<td><b>samples</b></td>\n",
       "<td><b>training_rmse</b></td>\n",
       "<td><b>training_deviance</b></td>\n",
       "<td><b>training_mae</b></td>\n",
       "<td><b>validation_rmse</b></td>\n",
       "<td><b>validation_deviance</b></td>\n",
       "<td><b>validation_mae</b></td></tr>\n",
       "<tr><td></td>\n",
       "<td>2018-04-19 17:01:21</td>\n",
       "<td> 0.000 sec</td>\n",
       "<td>None</td>\n",
       "<td>0.0</td>\n",
       "<td>0</td>\n",
       "<td>0.0</td>\n",
       "<td>nan</td>\n",
       "<td>nan</td>\n",
       "<td>nan</td>\n",
       "<td>nan</td>\n",
       "<td>nan</td>\n",
       "<td>nan</td></tr>\n",
       "<tr><td></td>\n",
       "<td>2018-04-19 17:01:23</td>\n",
       "<td> 3.193 sec</td>\n",
       "<td>2875 obs/sec</td>\n",
       "<td>7.0</td>\n",
       "<td>1</td>\n",
       "<td>8162.0</td>\n",
       "<td>0.1413447</td>\n",
       "<td>0.0199783</td>\n",
       "<td>0.1101069</td>\n",
       "<td>0.1499049</td>\n",
       "<td>0.0224715</td>\n",
       "<td>0.1187270</td></tr>\n",
       "<tr><td></td>\n",
       "<td>2018-04-19 17:01:25</td>\n",
       "<td> 5.107 sec</td>\n",
       "<td>3561 obs/sec</td>\n",
       "<td>14.0</td>\n",
       "<td>2</td>\n",
       "<td>16324.0</td>\n",
       "<td>0.1338521</td>\n",
       "<td>0.0179164</td>\n",
       "<td>0.1052289</td>\n",
       "<td>0.1460190</td>\n",
       "<td>0.0213215</td>\n",
       "<td>0.1161677</td></tr>\n",
       "<tr><td></td>\n",
       "<td>2018-04-19 17:01:27</td>\n",
       "<td> 6.969 sec</td>\n",
       "<td>3853 obs/sec</td>\n",
       "<td>21.0</td>\n",
       "<td>3</td>\n",
       "<td>24486.0</td>\n",
       "<td>0.1149809</td>\n",
       "<td>0.0132206</td>\n",
       "<td>0.0837348</td>\n",
       "<td>0.1248231</td>\n",
       "<td>0.0155808</td>\n",
       "<td>0.0932304</td></tr>\n",
       "<tr><td></td>\n",
       "<td>2018-04-19 17:01:29</td>\n",
       "<td> 8.504 sec</td>\n",
       "<td>4173 obs/sec</td>\n",
       "<td>28.0</td>\n",
       "<td>4</td>\n",
       "<td>32648.0</td>\n",
       "<td>0.1202613</td>\n",
       "<td>0.0144628</td>\n",
       "<td>0.0913360</td>\n",
       "<td>0.1351839</td>\n",
       "<td>0.0182747</td>\n",
       "<td>0.1030899</td></tr>\n",
       "<tr><td></td>\n",
       "<td>2018-04-19 17:01:30</td>\n",
       "<td> 9.957 sec</td>\n",
       "<td>4432 obs/sec</td>\n",
       "<td>35.0</td>\n",
       "<td>5</td>\n",
       "<td>40810.0</td>\n",
       "<td>0.1288740</td>\n",
       "<td>0.0166085</td>\n",
       "<td>0.0995942</td>\n",
       "<td>0.1429090</td>\n",
       "<td>0.0204230</td>\n",
       "<td>0.1116032</td></tr>\n",
       "<tr><td></td>\n",
       "<td>2018-04-19 17:01:32</td>\n",
       "<td>11.459 sec</td>\n",
       "<td>4608 obs/sec</td>\n",
       "<td>42.0</td>\n",
       "<td>6</td>\n",
       "<td>48972.0</td>\n",
       "<td>0.1143386</td>\n",
       "<td>0.0130733</td>\n",
       "<td>0.0852371</td>\n",
       "<td>0.1318321</td>\n",
       "<td>0.0173797</td>\n",
       "<td>0.0996656</td></tr>\n",
       "<tr><td></td>\n",
       "<td>2018-04-19 17:01:34</td>\n",
       "<td>13.496 sec</td>\n",
       "<td>4542 obs/sec</td>\n",
       "<td>49.0</td>\n",
       "<td>7</td>\n",
       "<td>57134.0</td>\n",
       "<td>0.1205159</td>\n",
       "<td>0.0145241</td>\n",
       "<td>0.0930524</td>\n",
       "<td>0.1414520</td>\n",
       "<td>0.0200087</td>\n",
       "<td>0.1086381</td></tr>\n",
       "<tr><td></td>\n",
       "<td>2018-04-19 17:01:35</td>\n",
       "<td>15.003 sec</td>\n",
       "<td>4661 obs/sec</td>\n",
       "<td>56.0</td>\n",
       "<td>8</td>\n",
       "<td>65296.0</td>\n",
       "<td>0.1209566</td>\n",
       "<td>0.0146305</td>\n",
       "<td>0.0908622</td>\n",
       "<td>0.1384115</td>\n",
       "<td>0.0191577</td>\n",
       "<td>0.1048653</td></tr>\n",
       "<tr><td></td>\n",
       "<td>2018-04-19 17:01:37</td>\n",
       "<td>16.597 sec</td>\n",
       "<td>4764 obs/sec</td>\n",
       "<td>63.0</td>\n",
       "<td>9</td>\n",
       "<td>73458.0</td>\n",
       "<td>0.1294385</td>\n",
       "<td>0.0167543</td>\n",
       "<td>0.0992594</td>\n",
       "<td>0.1463349</td>\n",
       "<td>0.0214139</td>\n",
       "<td>0.1111310</td></tr>\n",
       "<tr><td></td>\n",
       "<td>2018-04-19 17:01:38</td>\n",
       "<td>18.056 sec</td>\n",
       "<td>4856 obs/sec</td>\n",
       "<td>70.0</td>\n",
       "<td>10</td>\n",
       "<td>81620.0</td>\n",
       "<td>0.1204113</td>\n",
       "<td>0.0144989</td>\n",
       "<td>0.0927654</td>\n",
       "<td>0.1394713</td>\n",
       "<td>0.0194522</td>\n",
       "<td>0.1073937</td></tr>\n",
       "<tr><td></td>\n",
       "<td>2018-04-19 17:01:38</td>\n",
       "<td>18.129 sec</td>\n",
       "<td>4853 obs/sec</td>\n",
       "<td>70.0</td>\n",
       "<td>10</td>\n",
       "<td>81620.0</td>\n",
       "<td>0.1149809</td>\n",
       "<td>0.0132206</td>\n",
       "<td>0.0837348</td>\n",
       "<td>0.1248231</td>\n",
       "<td>0.0155808</td>\n",
       "<td>0.0932304</td></tr></table></div>"
      ],
      "text/plain": [
       "    timestamp            duration    training_speed    epochs    iterations    samples    training_rmse    training_deviance    training_mae    validation_rmse    validation_deviance    validation_mae\n",
       "--  -------------------  ----------  ----------------  --------  ------------  ---------  ---------------  -------------------  --------------  -----------------  ---------------------  ----------------\n",
       "    2018-04-19 17:01:21  0.000 sec                     0         0             0          nan              nan                  nan             nan                nan                    nan\n",
       "    2018-04-19 17:01:23  3.193 sec   2875 obs/sec      7         1             8162       0.141345         0.0199783            0.110107        0.149905           0.0224715              0.118727\n",
       "    2018-04-19 17:01:25  5.107 sec   3561 obs/sec      14        2             16324      0.133852         0.0179164            0.105229        0.146019           0.0213215              0.116168\n",
       "    2018-04-19 17:01:27  6.969 sec   3853 obs/sec      21        3             24486      0.114981         0.0132206            0.0837348       0.124823           0.0155808              0.0932304\n",
       "    2018-04-19 17:01:29  8.504 sec   4173 obs/sec      28        4             32648      0.120261         0.0144628            0.091336        0.135184           0.0182747              0.10309\n",
       "    2018-04-19 17:01:30  9.957 sec   4432 obs/sec      35        5             40810      0.128874         0.0166085            0.0995942       0.142909           0.020423               0.111603\n",
       "    2018-04-19 17:01:32  11.459 sec  4608 obs/sec      42        6             48972      0.114339         0.0130733            0.0852371       0.131832           0.0173797              0.0996656\n",
       "    2018-04-19 17:01:34  13.496 sec  4542 obs/sec      49        7             57134      0.120516         0.0145241            0.0930524       0.141452           0.0200087              0.108638\n",
       "    2018-04-19 17:01:35  15.003 sec  4661 obs/sec      56        8             65296      0.120957         0.0146305            0.0908622       0.138412           0.0191577              0.104865\n",
       "    2018-04-19 17:01:37  16.597 sec  4764 obs/sec      63        9             73458      0.129439         0.0167543            0.0992594       0.146335           0.0214139              0.111131\n",
       "    2018-04-19 17:01:38  18.056 sec  4856 obs/sec      70        10            81620      0.120411         0.0144989            0.0927654       0.139471           0.0194522              0.107394\n",
       "    2018-04-19 17:01:38  18.129 sec  4853 obs/sec      70        10            81620      0.114981         0.0132206            0.0837348       0.124823           0.0155808              0.0932304"
      ]
     },
     "metadata": {},
     "output_type": "display_data"
    },
    {
     "name": "stdout",
     "output_type": "stream",
     "text": [
      "Variable Importances: \n"
     ]
    },
    {
     "data": {
      "text/html": [
       "<div style=\"overflow:auto\"><table style=\"width:50%\"><tr><td><b>variable</b></td>\n",
       "<td><b>relative_importance</b></td>\n",
       "<td><b>scaled_importance</b></td>\n",
       "<td><b>percentage</b></td></tr>\n",
       "<tr><td>MSZoning.C (all)</td>\n",
       "<td>1.0</td>\n",
       "<td>1.0</td>\n",
       "<td>0.0100685</td></tr>\n",
       "<tr><td>Functional.Maj1</td>\n",
       "<td>0.8462706</td>\n",
       "<td>0.8462706</td>\n",
       "<td>0.0085207</td></tr>\n",
       "<tr><td>Neighborhood.NoRidge</td>\n",
       "<td>0.8084036</td>\n",
       "<td>0.8084036</td>\n",
       "<td>0.0081394</td></tr>\n",
       "<tr><td>Functional.Maj2</td>\n",
       "<td>0.7157471</td>\n",
       "<td>0.7157471</td>\n",
       "<td>0.0072065</td></tr>\n",
       "<tr><td>Neighborhood.Crawfor</td>\n",
       "<td>0.7123141</td>\n",
       "<td>0.7123141</td>\n",
       "<td>0.0071720</td></tr>\n",
       "<tr><td>---</td>\n",
       "<td>---</td>\n",
       "<td>---</td>\n",
       "<td>---</td></tr>\n",
       "<tr><td>LandSlope.missing(NA)</td>\n",
       "<td>0.0</td>\n",
       "<td>0.0</td>\n",
       "<td>0.0</td></tr>\n",
       "<tr><td>GarageFinish.missing(NA)</td>\n",
       "<td>0.0</td>\n",
       "<td>0.0</td>\n",
       "<td>0.0</td></tr>\n",
       "<tr><td>Utilities.missing(NA)</td>\n",
       "<td>0.0</td>\n",
       "<td>0.0</td>\n",
       "<td>0.0</td></tr>\n",
       "<tr><td>CentralAir.missing(NA)</td>\n",
       "<td>0.0</td>\n",
       "<td>0.0</td>\n",
       "<td>0.0</td></tr>\n",
       "<tr><td>Street.missing(NA)</td>\n",
       "<td>0.0</td>\n",
       "<td>0.0</td>\n",
       "<td>0.0</td></tr></table></div>"
      ],
      "text/plain": [
       "variable                  relative_importance    scaled_importance    percentage\n",
       "------------------------  ---------------------  -------------------  --------------------\n",
       "MSZoning.C (all)          1.0                    1.0                  0.010068526632933663\n",
       "Functional.Maj1           0.8462705612182617     0.8462705612182617   0.008520697684293786\n",
       "Neighborhood.NoRidge      0.8084035515785217     0.8084035515785217   0.008139432689226508\n",
       "Functional.Maj2           0.7157471179962158     0.7157471179962158   0.007206518919990411\n",
       "Neighborhood.Crawfor      0.7123140692710876     0.7123140692710876   0.0071719531774693\n",
       "---                       ---                    ---                  ---\n",
       "LandSlope.missing(NA)     0.0                    0.0                  0.0\n",
       "GarageFinish.missing(NA)  0.0                    0.0                  0.0\n",
       "Utilities.missing(NA)     0.0                    0.0                  0.0\n",
       "CentralAir.missing(NA)    0.0                    0.0                  0.0\n",
       "Street.missing(NA)        0.0                    0.0                  0.0"
      ]
     },
     "metadata": {},
     "output_type": "display_data"
    },
    {
     "name": "stdout",
     "output_type": "stream",
     "text": [
      "\n",
      "See the whole table with table.as_data_frame()\n"
     ]
    },
    {
     "data": {
      "text/plain": []
     },
     "execution_count": 56,
     "metadata": {},
     "output_type": "execute_result"
    }
   ],
   "source": [
    "# initialize nn model\n",
    "nn_model = H2ODeepLearningEstimator(\n",
    "    epochs=70,                    # read over the data 70 times, but in mini-batches\n",
    "    hidden=[300],                 # 300 hidden units in 1 hidden layer\n",
    "    input_dropout_ratio=0.2,      # randomly drop 20% of inputs for each iteration, helps w/ generalization\n",
    "    hidden_dropout_ratios=[0.05], # randomly set 5% of hidden weights to 0 each iteration, helps w/ generalization\n",
    "    activation='TanhWithDropout', # bounded activation function that allows for dropout, tanh\n",
    "    l1=0.001,                     # L1 penalty can help generalization   \n",
    "    l2=0.01,                      # L2 penalty can increase stability in presence of highly correlated inputs\n",
    "    adaptive_rate=True,           # adjust magnitude of weight updates automatically (+stability, +accuracy)\n",
    "    stopping_rounds=5,            # stop after validation error does not decrease for 5 iterations\n",
    "    score_each_iteration=True,    # score validation error on every iteration\n",
    "    model_id='nn_model')          # for easy lookup in flow\n",
    "\n",
    "# train nn model\n",
    "nn_model.train(\n",
    "    x=X,\n",
    "    y=y,\n",
    "    training_frame=train_nn,\n",
    "    validation_frame=validation_nn)\n",
    "\n",
    "# print model information\n",
    "nn_model\n"
   ]
  },
  {
   "cell_type": "code",
   "execution_count": 57,
   "metadata": {},
   "outputs": [
    {
     "name": "stdout",
     "output_type": "stream",
     "text": [
      "deeplearning prediction progress: |███████████████████████████████████████| 100%\n"
     ]
    },
    {
     "name": "stderr",
     "output_type": "stream",
     "text": [
      "/Users/zengweihao/anaconda3/lib/python3.6/site-packages/h2o/job.py:69: UserWarning: Test/Validation dataset column 'Condition2' has levels not trained on: [PosA]\n",
      "  warnings.warn(w)\n"
     ]
    }
   ],
   "source": [
    "nn_model =nn_model.predict(test_nn)"
   ]
  },
  {
   "cell_type": "code",
   "execution_count": 58,
   "metadata": {
    "collapsed": true
   },
   "outputs": [],
   "source": [
    "h2o.download_csv(nn_model, \"kaggle2.csv\")"
   ]
  },
  {
   "cell_type": "markdown",
   "metadata": {},
   "source": [
    "The third one is random forest"
   ]
  },
  {
   "cell_type": "code",
   "execution_count": 59,
   "metadata": {
    "collapsed": true
   },
   "outputs": [],
   "source": [
    "import h2o \n",
    "import numpy as np\n",
    "import pandas as pd\n",
    "from h2o.estimators.gbm import H2OGradientBoostingEstimator \n",
    "from h2o.estimators.random_forest import H2ORandomForestEstimator\n",
    "from h2o.grid.grid_search import H2OGridSearch"
   ]
  },
  {
   "cell_type": "code",
   "execution_count": 60,
   "metadata": {
    "collapsed": true
   },
   "outputs": [],
   "source": [
    "%matplotlib inline"
   ]
  },
  {
   "cell_type": "code",
   "execution_count": 61,
   "metadata": {},
   "outputs": [
    {
     "name": "stdout",
     "output_type": "stream",
     "text": [
      "Checking whether there is an H2O instance running at http://localhost:54321. connected.\n"
     ]
    },
    {
     "data": {
      "text/html": [
       "<div style=\"overflow:auto\"><table style=\"width:50%\"><tr><td>H2O cluster uptime:</td>\n",
       "<td>1 min 04 secs</td></tr>\n",
       "<tr><td>H2O cluster timezone:</td>\n",
       "<td>America/New_York</td></tr>\n",
       "<tr><td>H2O data parsing timezone:</td>\n",
       "<td>UTC</td></tr>\n",
       "<tr><td>H2O cluster version:</td>\n",
       "<td>3.18.0.3</td></tr>\n",
       "<tr><td>H2O cluster version age:</td>\n",
       "<td>1 month and 16 days </td></tr>\n",
       "<tr><td>H2O cluster name:</td>\n",
       "<td>H2O_from_python_zengweihao_qxurmr</td></tr>\n",
       "<tr><td>H2O cluster total nodes:</td>\n",
       "<td>1</td></tr>\n",
       "<tr><td>H2O cluster free memory:</td>\n",
       "<td>1.724 Gb</td></tr>\n",
       "<tr><td>H2O cluster total cores:</td>\n",
       "<td>4</td></tr>\n",
       "<tr><td>H2O cluster allowed cores:</td>\n",
       "<td>4</td></tr>\n",
       "<tr><td>H2O cluster status:</td>\n",
       "<td>locked, healthy</td></tr>\n",
       "<tr><td>H2O connection url:</td>\n",
       "<td>http://localhost:54321</td></tr>\n",
       "<tr><td>H2O connection proxy:</td>\n",
       "<td>None</td></tr>\n",
       "<tr><td>H2O internal security:</td>\n",
       "<td>False</td></tr>\n",
       "<tr><td>H2O API Extensions:</td>\n",
       "<td>XGBoost, Algos, AutoML, Core V3, Core V4</td></tr>\n",
       "<tr><td>Python version:</td>\n",
       "<td>3.6.3 final</td></tr></table></div>"
      ],
      "text/plain": [
       "--------------------------  ----------------------------------------\n",
       "H2O cluster uptime:         1 min 04 secs\n",
       "H2O cluster timezone:       America/New_York\n",
       "H2O data parsing timezone:  UTC\n",
       "H2O cluster version:        3.18.0.3\n",
       "H2O cluster version age:    1 month and 16 days\n",
       "H2O cluster name:           H2O_from_python_zengweihao_qxurmr\n",
       "H2O cluster total nodes:    1\n",
       "H2O cluster free memory:    1.724 Gb\n",
       "H2O cluster total cores:    4\n",
       "H2O cluster allowed cores:  4\n",
       "H2O cluster status:         locked, healthy\n",
       "H2O connection url:         http://localhost:54321\n",
       "H2O connection proxy:\n",
       "H2O internal security:      False\n",
       "H2O API Extensions:         XGBoost, Algos, AutoML, Core V3, Core V4\n",
       "Python version:             3.6.3 final\n",
       "--------------------------  ----------------------------------------"
      ]
     },
     "metadata": {},
     "output_type": "display_data"
    }
   ],
   "source": [
    "h2o.init()"
   ]
  },
  {
   "cell_type": "code",
   "execution_count": 62,
   "metadata": {},
   "outputs": [
    {
     "name": "stdout",
     "output_type": "stream",
     "text": [
      "Parse progress: |█████████████████████████████████████████████████████████| 100%\n",
      "Parse progress: |█████████████████████████████████████████████████████████| 100%\n",
      "Parse progress: |█████████████████████████████████████████████████████████| 100%\n"
     ]
    }
   ],
   "source": [
    "train_random = h2o.H2OFrame(train)\n",
    "validation_random = h2o.H2OFrame(valid)\n",
    "test_random = h2o.H2OFrame(test)"
   ]
  },
  {
   "cell_type": "code",
   "execution_count": 63,
   "metadata": {},
   "outputs": [
    {
     "name": "stdout",
     "output_type": "stream",
     "text": [
      "saleprice\n",
      "['MSSubClass', 'MSZoning', 'Street', 'LotShape', 'LandContour', 'Utilities', 'LotConfig', 'LandSlope', 'Neighborhood', 'Condition1', 'Condition2', 'BldgType', 'HouseStyle', 'OverallQual', 'OverallCond', 'YearBuilt', 'YearRemodAdd', 'RoofStyle', 'RoofMatl', 'Exterior1st', 'Exterior2nd', 'MasVnrType', 'ExterQual', 'ExterCond', 'Foundation', 'BsmtQual', 'BsmtCond', 'BsmtExposure', 'BsmtFinType1', 'BsmtFinType2', 'Heating', 'HeatingQC', 'CentralAir', 'Electrical', 'KitchenQual', 'Functional', 'GarageType', 'GarageYrBlt', 'GarageFinish', 'GarageQual', 'GarageCond', 'PavedDrive', 'MoSold', 'YrSold', 'SaleType', 'SaleCondition', '1stFlrSF_std', 'TotalLivingArea_std', 'TotalBsmtSF_std', 'FullBath_std', 'MasVnrArea_std', 'TotalBathRoom_std', 'Fireplaces_std', 'GarageCars_std', 'TotRmsAbvGrd_std', 'GarageArea_std', 'GrLivArea_std', 'BsmtFinSF1_std']\n"
     ]
    }
   ],
   "source": [
    "y = 'saleprice'\n",
    "X = [name for name in train_nn.columns if name not in ['Id', y]]\n",
    "print(y)\n",
    "print(X)"
   ]
  },
  {
   "cell_type": "code",
   "execution_count": 64,
   "metadata": {},
   "outputs": [
    {
     "name": "stdout",
     "output_type": "stream",
     "text": [
      "drf Model Build progress: |███████████████████████████████████████████████| 100%\n",
      "Model Details\n",
      "=============\n",
      "H2ORandomForestEstimator :  Distributed Random Forest\n",
      "Model Key:  rf_model\n",
      "\n",
      "\n",
      "ModelMetricsRegression: drf\n",
      "** Reported on train data. **\n",
      "\n",
      "MSE: 0.019573429245811402\n",
      "RMSE: 0.13990507226620272\n",
      "MAE: 0.09633462286642508\n",
      "RMSLE: 0.010899156214239238\n",
      "Mean Residual Deviance: 0.019573429245811402\n",
      "\n",
      "ModelMetricsRegression: drf\n",
      "** Reported on validation data. **\n",
      "\n",
      "MSE: 0.01741496098172008\n",
      "RMSE: 0.13196575685275358\n",
      "MAE: 0.09145760536193841\n",
      "RMSLE: 0.010321394237331279\n",
      "Mean Residual Deviance: 0.01741496098172008\n",
      "Scoring History: \n"
     ]
    },
    {
     "data": {
      "text/html": [
       "<div style=\"overflow:auto\"><table style=\"width:50%\"><tr><td><b></b></td>\n",
       "<td><b>timestamp</b></td>\n",
       "<td><b>duration</b></td>\n",
       "<td><b>number_of_trees</b></td>\n",
       "<td><b>training_rmse</b></td>\n",
       "<td><b>training_mae</b></td>\n",
       "<td><b>training_deviance</b></td>\n",
       "<td><b>validation_rmse</b></td>\n",
       "<td><b>validation_mae</b></td>\n",
       "<td><b>validation_deviance</b></td></tr>\n",
       "<tr><td></td>\n",
       "<td>2018-04-19 17:01:41</td>\n",
       "<td> 0.028 sec</td>\n",
       "<td>0.0</td>\n",
       "<td>nan</td>\n",
       "<td>nan</td>\n",
       "<td>nan</td>\n",
       "<td>nan</td>\n",
       "<td>nan</td>\n",
       "<td>nan</td></tr>\n",
       "<tr><td></td>\n",
       "<td>2018-04-19 17:01:41</td>\n",
       "<td> 0.143 sec</td>\n",
       "<td>1.0</td>\n",
       "<td>0.2069565</td>\n",
       "<td>0.1521022</td>\n",
       "<td>0.0428310</td>\n",
       "<td>0.1986816</td>\n",
       "<td>0.1452181</td>\n",
       "<td>0.0394744</td></tr>\n",
       "<tr><td></td>\n",
       "<td>2018-04-19 17:01:41</td>\n",
       "<td> 0.208 sec</td>\n",
       "<td>2.0</td>\n",
       "<td>0.1985571</td>\n",
       "<td>0.1444538</td>\n",
       "<td>0.0394249</td>\n",
       "<td>0.1756303</td>\n",
       "<td>0.1268877</td>\n",
       "<td>0.0308460</td></tr>\n",
       "<tr><td></td>\n",
       "<td>2018-04-19 17:01:41</td>\n",
       "<td> 0.267 sec</td>\n",
       "<td>3.0</td>\n",
       "<td>0.1882407</td>\n",
       "<td>0.1384280</td>\n",
       "<td>0.0354346</td>\n",
       "<td>0.1693602</td>\n",
       "<td>0.1199520</td>\n",
       "<td>0.0286829</td></tr>\n",
       "<tr><td></td>\n",
       "<td>2018-04-19 17:01:41</td>\n",
       "<td> 0.313 sec</td>\n",
       "<td>4.0</td>\n",
       "<td>0.1876913</td>\n",
       "<td>0.1328026</td>\n",
       "<td>0.0352280</td>\n",
       "<td>0.1589497</td>\n",
       "<td>0.1127837</td>\n",
       "<td>0.0252650</td></tr>\n",
       "<tr><td>---</td>\n",
       "<td>---</td>\n",
       "<td>---</td>\n",
       "<td>---</td>\n",
       "<td>---</td>\n",
       "<td>---</td>\n",
       "<td>---</td>\n",
       "<td>---</td>\n",
       "<td>---</td>\n",
       "<td>---</td></tr>\n",
       "<tr><td></td>\n",
       "<td>2018-04-19 17:01:42</td>\n",
       "<td> 0.957 sec</td>\n",
       "<td>23.0</td>\n",
       "<td>0.1405011</td>\n",
       "<td>0.0981570</td>\n",
       "<td>0.0197405</td>\n",
       "<td>0.1318757</td>\n",
       "<td>0.0915139</td>\n",
       "<td>0.0173912</td></tr>\n",
       "<tr><td></td>\n",
       "<td>2018-04-19 17:01:42</td>\n",
       "<td> 0.996 sec</td>\n",
       "<td>24.0</td>\n",
       "<td>0.1400781</td>\n",
       "<td>0.0976282</td>\n",
       "<td>0.0196219</td>\n",
       "<td>0.1321573</td>\n",
       "<td>0.0913327</td>\n",
       "<td>0.0174656</td></tr>\n",
       "<tr><td></td>\n",
       "<td>2018-04-19 17:01:42</td>\n",
       "<td> 1.044 sec</td>\n",
       "<td>25.0</td>\n",
       "<td>0.1398077</td>\n",
       "<td>0.0968961</td>\n",
       "<td>0.0195462</td>\n",
       "<td>0.1323872</td>\n",
       "<td>0.0915479</td>\n",
       "<td>0.0175264</td></tr>\n",
       "<tr><td></td>\n",
       "<td>2018-04-19 17:01:42</td>\n",
       "<td> 1.130 sec</td>\n",
       "<td>26.0</td>\n",
       "<td>0.1399588</td>\n",
       "<td>0.0966684</td>\n",
       "<td>0.0195885</td>\n",
       "<td>0.1326397</td>\n",
       "<td>0.0913390</td>\n",
       "<td>0.0175933</td></tr>\n",
       "<tr><td></td>\n",
       "<td>2018-04-19 17:01:42</td>\n",
       "<td> 1.205 sec</td>\n",
       "<td>27.0</td>\n",
       "<td>0.1399051</td>\n",
       "<td>0.0963346</td>\n",
       "<td>0.0195734</td>\n",
       "<td>0.1319658</td>\n",
       "<td>0.0914576</td>\n",
       "<td>0.0174150</td></tr></table></div>"
      ],
      "text/plain": [
       "     timestamp            duration    number_of_trees    training_rmse        training_mae         training_deviance     validation_rmse      validation_mae       validation_deviance\n",
       "---  -------------------  ----------  -----------------  -------------------  -------------------  --------------------  -------------------  -------------------  ---------------------\n",
       "     2018-04-19 17:01:41  0.028 sec   0.0                nan                  nan                  nan                   nan                  nan                  nan\n",
       "     2018-04-19 17:01:41  0.143 sec   1.0                0.2069564584083082   0.15210215393203255  0.042830975676909806  0.19868160941491753  0.14521808167026468  0.039474381919701845\n",
       "     2018-04-19 17:01:41  0.208 sec   2.0                0.198557070177538    0.14445377985636393  0.03942491011748775   0.17563028202302042  0.12688765950398903  0.030845995963485688\n",
       "     2018-04-19 17:01:41  0.267 sec   3.0                0.18824068437796068  0.138427954142723    0.03543455525508301   0.1693601596358663   0.11995201568080954  0.02868286367188611\n",
       "     2018-04-19 17:01:41  0.313 sec   4.0                0.1876913439004872   0.1328025542148927   0.035228040575170955  0.15894965972708908  0.1127836671594071   0.025264994327357404\n",
       "---  ---                  ---         ---                ---                  ---                  ---                   ---                  ---                  ---\n",
       "     2018-04-19 17:01:42  0.957 sec   23.0               0.14050106694390066  0.0981569826551017   0.019740549812374455  0.13187573907125894  0.09151392355073124  0.017391210555590772\n",
       "     2018-04-19 17:01:42  0.996 sec   24.0               0.14007808792970142  0.0976281864516008   0.01962187071804116   0.13215731273171225  0.09133267429865659  0.017465555308467592\n",
       "     2018-04-19 17:01:42  1.044 sec   25.0               0.13980769269381174  0.09689605110850959  0.019546190936367305  0.13238721633437808  0.0915478855289825   0.017526375048765423\n",
       "     2018-04-19 17:01:42  1.130 sec   26.0               0.13995884581466905  0.09666836998638687  0.019588478521774304  0.13263965930858676  0.09133901874936176  0.01759327922149797\n",
       "     2018-04-19 17:01:42  1.205 sec   27.0               0.13990507226620272  0.09633462286642508  0.019573429245811402  0.13196575685275358  0.09145760536193841  0.01741496098172008"
      ]
     },
     "metadata": {},
     "output_type": "display_data"
    },
    {
     "name": "stdout",
     "output_type": "stream",
     "text": [
      "\n",
      "See the whole table with table.as_data_frame()\n",
      "Variable Importances: \n"
     ]
    },
    {
     "data": {
      "text/html": [
       "<div style=\"overflow:auto\"><table style=\"width:50%\"><tr><td><b>variable</b></td>\n",
       "<td><b>relative_importance</b></td>\n",
       "<td><b>scaled_importance</b></td>\n",
       "<td><b>percentage</b></td></tr>\n",
       "<tr><td>OverallQual</td>\n",
       "<td>1367.0374756</td>\n",
       "<td>1.0</td>\n",
       "<td>0.3436294</td></tr>\n",
       "<tr><td>TotalLivingArea_std</td>\n",
       "<td>585.1434326</td>\n",
       "<td>0.4280376</td>\n",
       "<td>0.1470863</td></tr>\n",
       "<tr><td>Neighborhood</td>\n",
       "<td>410.9991455</td>\n",
       "<td>0.3006495</td>\n",
       "<td>0.1033120</td></tr>\n",
       "<tr><td>ExterQual</td>\n",
       "<td>311.1703186</td>\n",
       "<td>0.2276238</td>\n",
       "<td>0.0782182</td></tr>\n",
       "<tr><td>YearBuilt</td>\n",
       "<td>174.7467499</td>\n",
       "<td>0.1278288</td>\n",
       "<td>0.0439257</td></tr>\n",
       "<tr><td>---</td>\n",
       "<td>---</td>\n",
       "<td>---</td>\n",
       "<td>---</td></tr>\n",
       "<tr><td>RoofMatl</td>\n",
       "<td>0.2456875</td>\n",
       "<td>0.0001797</td>\n",
       "<td>0.0000618</td></tr>\n",
       "<tr><td>Condition2</td>\n",
       "<td>0.0452775</td>\n",
       "<td>0.0000331</td>\n",
       "<td>0.0000114</td></tr>\n",
       "<tr><td>Heating</td>\n",
       "<td>0.0359282</td>\n",
       "<td>0.0000263</td>\n",
       "<td>0.0000090</td></tr>\n",
       "<tr><td>Street</td>\n",
       "<td>0.0056046</td>\n",
       "<td>0.0000041</td>\n",
       "<td>0.0000014</td></tr>\n",
       "<tr><td>Utilities</td>\n",
       "<td>0.0</td>\n",
       "<td>0.0</td>\n",
       "<td>0.0</td></tr></table></div>"
      ],
      "text/plain": [
       "variable             relative_importance    scaled_importance       percentage\n",
       "-------------------  ---------------------  ----------------------  ----------------------\n",
       "OverallQual          1367.0374755859375     1.0                     0.34362935116195403\n",
       "TotalLivingArea_std  585.1434326171875      0.428037594482466       0.1470862808649334\n",
       "Neighborhood         410.9991455078125      0.30064950877198937     0.10331199562647891\n",
       "ExterQual            311.1703186035156      0.2276238392587901      0.07821823219349096\n",
       "YearBuilt            174.7467498779297      0.1278287925523256      0.04392572504457167\n",
       "---                  ---                    ---                     ---\n",
       "RoofMatl             0.2456875443458557     0.00017972261092589982  6.175796418159926e-05\n",
       "Condition2           0.045277491211891174   3.3120885140683074e-05  1.138130827080253e-05\n",
       "Heating              0.03592819720506668    2.628179391327015e-05   9.031195789789214e-06\n",
       "Street               0.005604592151939869   4.099808711928425e-06   1.4088146075680916e-06\n",
       "Utilities            0.0                    0.0                     0.0"
      ]
     },
     "metadata": {},
     "output_type": "display_data"
    },
    {
     "name": "stdout",
     "output_type": "stream",
     "text": [
      "\n",
      "See the whole table with table.as_data_frame()\n"
     ]
    },
    {
     "data": {
      "text/plain": []
     },
     "execution_count": 64,
     "metadata": {},
     "output_type": "execute_result"
    }
   ],
   "source": [
    "rf_model = H2ORandomForestEstimator(\n",
    "    ntrees=500,                      # Up to 500 decision trees in the forest \n",
    "    max_depth=30,                    # trees can grow to depth of 30\n",
    "    stopping_rounds=5,               # stop after validation error does not decrease for 5 iterations/new trees\n",
    "    score_each_iteration=True,       # score validation error on every iteration/new tree\n",
    "    model_id='rf_model')             # for easy lookup in flow\n",
    "\n",
    "# train rf model\n",
    "rf_model.train(\n",
    "    x=X,\n",
    "    y=y,\n",
    "    training_frame=train_random,\n",
    "    validation_frame=validation_random)\n",
    "\n",
    "# print model information\n",
    "rf_model"
   ]
  },
  {
   "cell_type": "code",
   "execution_count": 65,
   "metadata": {},
   "outputs": [
    {
     "name": "stdout",
     "output_type": "stream",
     "text": [
      "drf prediction progress: |████████████████████████████████████████████████| 100%\n"
     ]
    },
    {
     "name": "stderr",
     "output_type": "stream",
     "text": [
      "/Users/zengweihao/anaconda3/lib/python3.6/site-packages/h2o/job.py:69: UserWarning: Test/Validation dataset column 'Condition2' has levels not trained on: [PosA]\n",
      "  warnings.warn(w)\n"
     ]
    }
   ],
   "source": [
    "predict_random=rf_model.predict(test_random)"
   ]
  },
  {
   "cell_type": "code",
   "execution_count": 66,
   "metadata": {
    "collapsed": true
   },
   "outputs": [],
   "source": [
    "h2o.download_csv(predict_random, \"kaggle3.csv\")"
   ]
  },
  {
   "cell_type": "code",
   "execution_count": 67,
   "metadata": {},
   "outputs": [
    {
     "name": "stdout",
     "output_type": "stream",
     "text": [
      "H2O session _sid_93e5 closed.\n"
     ]
    }
   ],
   "source": [
    "h2o.cluster().shutdown(prompt=False)\n"
   ]
  },
  {
   "cell_type": "code",
   "execution_count": 68,
   "metadata": {
    "collapsed": true
   },
   "outputs": [],
   "source": [
    "pred1 = pd.read_csv(\"kaggle1.csv\")\n",
    "pred2 = pd.read_csv(\"kaggle2.csv\")\n",
    "pred3 = pd.read_csv(\"kaggle3.csv\")\n",
    "\n",
    "pred1 = np.expm1(pred1)   # we took the log of saleprice before we fit the model\n",
    "pred2 = np.expm1(pred2)\n",
    "pred3 = np.expm1(pred3)"
   ]
  },
  {
   "cell_type": "markdown",
   "metadata": {},
   "source": [
    "# 5. Model Aggregation:\n",
    "Below we are going to take the average of all the models' prediction to get our final values of the housing price. Doing this improved our predicting comparing with using a single model's prediction for the housing price."
   ]
  },
  {
   "cell_type": "code",
   "execution_count": 69,
   "metadata": {
    "collapsed": true
   },
   "outputs": [],
   "source": [
    "final = pd.concat([pred1,pred2,pred3],axis=1)"
   ]
  },
  {
   "cell_type": "code",
   "execution_count": 70,
   "metadata": {
    "collapsed": true
   },
   "outputs": [],
   "source": [
    "final[\"SalePrice\"]= final.mean(axis=1)"
   ]
  },
  {
   "cell_type": "code",
   "execution_count": 71,
   "metadata": {
    "collapsed": true
   },
   "outputs": [],
   "source": [
    "final1 = final.drop(\"predict\",axis =1 )"
   ]
  },
  {
   "cell_type": "code",
   "execution_count": 72,
   "metadata": {},
   "outputs": [
    {
     "data": {
      "text/plain": [
       "(1459, 1)"
      ]
     },
     "execution_count": 72,
     "metadata": {},
     "output_type": "execute_result"
    }
   ],
   "source": [
    "final1.shape"
   ]
  },
  {
   "cell_type": "code",
   "execution_count": 73,
   "metadata": {
    "collapsed": true
   },
   "outputs": [],
   "source": [
    "final1.to_csv(\"kaggle_sumit.csv\")"
   ]
  },
  {
   "cell_type": "markdown",
   "metadata": {},
   "source": [
    "These files with prediction need manipulation using Excel, so that we can upload to Kaggle.\n",
    "I scored 0.12455 and rank #1121."
   ]
  },
  {
   "attachments": {
    "Messages%20Image%282302605165%29.jpeg": {
     "image/jpeg": "[encoded data removed]"
    }
   },
   "cell_type": "markdown",
   "metadata": {},
   "source": [
    "![Messages%20Image%282302605165%29.jpeg](attachment:Messages%20Image%282302605165%29.jpeg)"
   ]
  },
  {
   "cell_type": "code",
   "execution_count": null,
   "metadata": {
    "collapsed": true
   },
   "outputs": [],
   "source": []
  }
 ],
 "metadata": {
  "kernelspec": {
   "display_name": "Python 3",
   "language": "python",
   "name": "python3"
  },
  "language_info": {
   "codemirror_mode": {
    "name": "ipython",
    "version": 3
   },
   "file_extension": ".py",
   "mimetype": "text/x-python",
   "name": "python",
   "nbconvert_exporter": "python",
   "pygments_lexer": "ipython3",
   "version": "3.5.4"
  }
 },
 "nbformat": 4,
 "nbformat_minor": 2
}
